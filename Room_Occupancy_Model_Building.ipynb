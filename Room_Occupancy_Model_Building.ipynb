{
  "nbformat": 4,
  "nbformat_minor": 0,
  "metadata": {
    "colab": {
      "name": "Room Occupancy Model Building",
      "provenance": [],
      "collapsed_sections": []
    },
    "kernelspec": {
      "name": "python3",
      "display_name": "Python 3"
    },
    "language_info": {
      "name": "python"
    }
  },
  "cells": [
    {
      "cell_type": "code",
      "execution_count": null,
      "metadata": {
        "id": "3n2SrIDazsYN"
      },
      "outputs": [],
      "source": [
        "import numpy as np\n",
        "import pandas as pd\n",
        "import scipy.stats\n",
        "import matplotlib.pyplot as plt\n",
        "import seaborn as sns\n",
        "import statsmodels.api as sm\n",
        "from statsmodels.formula.api import ols\n",
        "from statsmodels.stats.multicomp import pairwise_tukeyhsd\n",
        "from scipy.stats import chi2_contingency"
      ]
    },
    {
      "cell_type": "code",
      "source": [
        "from google.colab import files\n",
        "uploaded= files.upload()"
      ],
      "metadata": {
        "colab": {
          "resources": {
            "http://localhost:8080/nbextensions/google.colab/files.js": {
              "data": "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",
              "ok": true,
              "headers": [
                [
                  "content-type",
                  "application/javascript"
                ]
              ],
              "status": 200,
              "status_text": ""
            }
          },
          "base_uri": "https://localhost:8080/",
          "height": 73
        },
        "id": "qYXT_0mX1ywB",
        "outputId": "c356cdb6-fe0f-423e-8191-811bb3c1ed07"
      },
      "execution_count": null,
      "outputs": [
        {
          "output_type": "display_data",
          "data": {
            "text/html": [
              "\n",
              "     <input type=\"file\" id=\"files-3ff0372e-4951-4eab-a7fe-cccc4b627fb9\" name=\"files[]\" multiple disabled\n",
              "        style=\"border:none\" />\n",
              "     <output id=\"result-3ff0372e-4951-4eab-a7fe-cccc4b627fb9\">\n",
              "      Upload widget is only available when the cell has been executed in the\n",
              "      current browser session. Please rerun this cell to enable.\n",
              "      </output>\n",
              "      <script src=\"/nbextensions/google.colab/files.js\"></script> "
            ],
            "text/plain": [
              "<IPython.core.display.HTML object>"
            ]
          },
          "metadata": {}
        },
        {
          "output_type": "stream",
          "name": "stdout",
          "text": [
            "Saving EDA_Room_Occupancy.csv to EDA_Room_Occupancy (1).csv\n"
          ]
        }
      ]
    },
    {
      "cell_type": "code",
      "source": [
        "df= pd.read_csv(\"EDA_Room_Occupancy.csv\")"
      ],
      "metadata": {
        "id": "4p1SJUkC2AZO"
      },
      "execution_count": null,
      "outputs": []
    },
    {
      "cell_type": "code",
      "source": [
        "df.info()"
      ],
      "metadata": {
        "colab": {
          "base_uri": "https://localhost:8080/"
        },
        "id": "XALBhg322J57",
        "outputId": "176ee982-068c-4511-c4b6-80431bcc24a9"
      },
      "execution_count": null,
      "outputs": [
        {
          "output_type": "stream",
          "name": "stdout",
          "text": [
            "<class 'pandas.core.frame.DataFrame'>\n",
            "RangeIndex: 10808 entries, 0 to 10807\n",
            "Data columns (total 11 columns):\n",
            " #   Column         Non-Null Count  Dtype  \n",
            "---  ------         --------------  -----  \n",
            " 0   Unnamed: 0     10808 non-null  int64  \n",
            " 1   Temperature    10808 non-null  float64\n",
            " 2   Humidity       10808 non-null  float64\n",
            " 3   Light          10808 non-null  float64\n",
            " 4   CO2            10808 non-null  float64\n",
            " 5   HumidityRatio  10808 non-null  float64\n",
            " 6   Occupancy      10808 non-null  int64  \n",
            " 7   month          10808 non-null  int64  \n",
            " 8   day            10808 non-null  int64  \n",
            " 9   hour           10808 non-null  int64  \n",
            " 10  minute         10808 non-null  int64  \n",
            "dtypes: float64(5), int64(6)\n",
            "memory usage: 928.9 KB\n"
          ]
        }
      ]
    },
    {
      "cell_type": "code",
      "source": [
        "df= df.drop(['Unnamed: 0'], axis=1)"
      ],
      "metadata": {
        "id": "GU8-Lev02MSF"
      },
      "execution_count": null,
      "outputs": []
    },
    {
      "cell_type": "code",
      "source": [
        "df.info()"
      ],
      "metadata": {
        "colab": {
          "base_uri": "https://localhost:8080/"
        },
        "id": "0C_A3uDE2SFy",
        "outputId": "b2c69400-03b6-4daf-947a-f0e3e4b418b0"
      },
      "execution_count": null,
      "outputs": [
        {
          "output_type": "stream",
          "name": "stdout",
          "text": [
            "<class 'pandas.core.frame.DataFrame'>\n",
            "RangeIndex: 10808 entries, 0 to 10807\n",
            "Data columns (total 10 columns):\n",
            " #   Column         Non-Null Count  Dtype  \n",
            "---  ------         --------------  -----  \n",
            " 0   Temperature    10808 non-null  float64\n",
            " 1   Humidity       10808 non-null  float64\n",
            " 2   Light          10808 non-null  float64\n",
            " 3   CO2            10808 non-null  float64\n",
            " 4   HumidityRatio  10808 non-null  float64\n",
            " 5   Occupancy      10808 non-null  int64  \n",
            " 6   month          10808 non-null  int64  \n",
            " 7   day            10808 non-null  int64  \n",
            " 8   hour           10808 non-null  int64  \n",
            " 9   minute         10808 non-null  int64  \n",
            "dtypes: float64(5), int64(5)\n",
            "memory usage: 844.5 KB\n"
          ]
        }
      ]
    },
    {
      "cell_type": "code",
      "source": [
        "df.shape"
      ],
      "metadata": {
        "colab": {
          "base_uri": "https://localhost:8080/"
        },
        "id": "nYnXJlIa2TwK",
        "outputId": "6b4be785-57a9-4ee2-a18a-853afb650c30"
      },
      "execution_count": null,
      "outputs": [
        {
          "output_type": "execute_result",
          "data": {
            "text/plain": [
              "(10808, 10)"
            ]
          },
          "metadata": {},
          "execution_count": 12
        }
      ]
    },
    {
      "cell_type": "code",
      "source": [
        "df.describe()"
      ],
      "metadata": {
        "colab": {
          "base_uri": "https://localhost:8080/",
          "height": 320
        },
        "id": "_aWpkNVI2d3o",
        "outputId": "68b369d7-f493-4516-8c3f-410e19d6ae7c"
      },
      "execution_count": null,
      "outputs": [
        {
          "output_type": "execute_result",
          "data": {
            "text/html": [
              "<div>\n",
              "<style scoped>\n",
              "    .dataframe tbody tr th:only-of-type {\n",
              "        vertical-align: middle;\n",
              "    }\n",
              "\n",
              "    .dataframe tbody tr th {\n",
              "        vertical-align: top;\n",
              "    }\n",
              "\n",
              "    .dataframe thead th {\n",
              "        text-align: right;\n",
              "    }\n",
              "</style>\n",
              "<table border=\"1\" class=\"dataframe\">\n",
              "  <thead>\n",
              "    <tr style=\"text-align: right;\">\n",
              "      <th></th>\n",
              "      <th>Temperature</th>\n",
              "      <th>Humidity</th>\n",
              "      <th>Light</th>\n",
              "      <th>CO2</th>\n",
              "      <th>HumidityRatio</th>\n",
              "      <th>Occupancy</th>\n",
              "      <th>month</th>\n",
              "      <th>day</th>\n",
              "      <th>hour</th>\n",
              "      <th>minute</th>\n",
              "    </tr>\n",
              "  </thead>\n",
              "  <tbody>\n",
              "    <tr>\n",
              "      <th>count</th>\n",
              "      <td>10808.000000</td>\n",
              "      <td>10808.000000</td>\n",
              "      <td>10808.000000</td>\n",
              "      <td>10808.000000</td>\n",
              "      <td>10808.000000</td>\n",
              "      <td>10808.000000</td>\n",
              "      <td>10808.000000</td>\n",
              "      <td>10808.000000</td>\n",
              "      <td>10808.000000</td>\n",
              "      <td>10808.000000</td>\n",
              "    </tr>\n",
              "    <tr>\n",
              "      <th>mean</th>\n",
              "      <td>20.818940</td>\n",
              "      <td>25.637117</td>\n",
              "      <td>137.494665</td>\n",
              "      <td>617.065584</td>\n",
              "      <td>0.003897</td>\n",
              "      <td>0.249907</td>\n",
              "      <td>6.076425</td>\n",
              "      <td>3.758605</td>\n",
              "      <td>11.405811</td>\n",
              "      <td>29.500093</td>\n",
              "    </tr>\n",
              "    <tr>\n",
              "      <th>std</th>\n",
              "      <td>1.075329</td>\n",
              "      <td>4.950347</td>\n",
              "      <td>211.099792</td>\n",
              "      <td>261.214866</td>\n",
              "      <td>0.000785</td>\n",
              "      <td>0.432979</td>\n",
              "      <td>2.297179</td>\n",
              "      <td>2.018999</td>\n",
              "      <td>7.115773</td>\n",
              "      <td>17.295696</td>\n",
              "    </tr>\n",
              "    <tr>\n",
              "      <th>min</th>\n",
              "      <td>19.000000</td>\n",
              "      <td>16.745000</td>\n",
              "      <td>0.000000</td>\n",
              "      <td>412.750000</td>\n",
              "      <td>0.002674</td>\n",
              "      <td>0.000000</td>\n",
              "      <td>2.000000</td>\n",
              "      <td>1.000000</td>\n",
              "      <td>0.000000</td>\n",
              "      <td>0.000000</td>\n",
              "    </tr>\n",
              "    <tr>\n",
              "      <th>25%</th>\n",
              "      <td>20.000000</td>\n",
              "      <td>21.390000</td>\n",
              "      <td>0.000000</td>\n",
              "      <td>441.000000</td>\n",
              "      <td>0.003323</td>\n",
              "      <td>0.000000</td>\n",
              "      <td>4.000000</td>\n",
              "      <td>2.000000</td>\n",
              "      <td>5.000000</td>\n",
              "      <td>15.000000</td>\n",
              "    </tr>\n",
              "    <tr>\n",
              "      <th>50%</th>\n",
              "      <td>20.700000</td>\n",
              "      <td>25.680000</td>\n",
              "      <td>0.000000</td>\n",
              "      <td>464.000000</td>\n",
              "      <td>0.003805</td>\n",
              "      <td>0.000000</td>\n",
              "      <td>6.000000</td>\n",
              "      <td>4.000000</td>\n",
              "      <td>11.000000</td>\n",
              "      <td>29.000000</td>\n",
              "    </tr>\n",
              "    <tr>\n",
              "      <th>75%</th>\n",
              "      <td>21.500000</td>\n",
              "      <td>28.324167</td>\n",
              "      <td>413.541667</td>\n",
              "      <td>761.000000</td>\n",
              "      <td>0.004372</td>\n",
              "      <td>0.000000</td>\n",
              "      <td>8.000000</td>\n",
              "      <td>6.000000</td>\n",
              "      <td>18.000000</td>\n",
              "      <td>44.000000</td>\n",
              "    </tr>\n",
              "    <tr>\n",
              "      <th>max</th>\n",
              "      <td>23.750000</td>\n",
              "      <td>38.725417</td>\n",
              "      <td>1033.854167</td>\n",
              "      <td>1241.000000</td>\n",
              "      <td>0.005945</td>\n",
              "      <td>1.000000</td>\n",
              "      <td>10.000000</td>\n",
              "      <td>7.000000</td>\n",
              "      <td>23.000000</td>\n",
              "      <td>59.000000</td>\n",
              "    </tr>\n",
              "  </tbody>\n",
              "</table>\n",
              "</div>"
            ],
            "text/plain": [
              "        Temperature      Humidity  ...          hour        minute\n",
              "count  10808.000000  10808.000000  ...  10808.000000  10808.000000\n",
              "mean      20.818940     25.637117  ...     11.405811     29.500093\n",
              "std        1.075329      4.950347  ...      7.115773     17.295696\n",
              "min       19.000000     16.745000  ...      0.000000      0.000000\n",
              "25%       20.000000     21.390000  ...      5.000000     15.000000\n",
              "50%       20.700000     25.680000  ...     11.000000     29.000000\n",
              "75%       21.500000     28.324167  ...     18.000000     44.000000\n",
              "max       23.750000     38.725417  ...     23.000000     59.000000\n",
              "\n",
              "[8 rows x 10 columns]"
            ]
          },
          "metadata": {},
          "execution_count": 13
        }
      ]
    },
    {
      "cell_type": "markdown",
      "source": [
        "**# LOGISTIC REGRESSION**"
      ],
      "metadata": {
        "id": "zhD5o2Aj8fA5"
      }
    },
    {
      "cell_type": "code",
      "source": [
        "df1= df[:]"
      ],
      "metadata": {
        "id": "GrCPDrXQ3f3U"
      },
      "execution_count": null,
      "outputs": []
    },
    {
      "cell_type": "code",
      "source": [
        "X = df1.loc[:, df1.columns!= 'Occupancy']\n",
        "y = df1.loc[:, df1.columns== 'Occupancy']"
      ],
      "metadata": {
        "id": "bH_lTelN2goF"
      },
      "execution_count": null,
      "outputs": []
    },
    {
      "cell_type": "code",
      "source": [
        "X.info()"
      ],
      "metadata": {
        "colab": {
          "base_uri": "https://localhost:8080/"
        },
        "id": "IIDNwm1u3s39",
        "outputId": "e7339af9-89ec-4938-fa21-6d2941e2bbd7"
      },
      "execution_count": null,
      "outputs": [
        {
          "output_type": "stream",
          "name": "stdout",
          "text": [
            "<class 'pandas.core.frame.DataFrame'>\n",
            "RangeIndex: 10808 entries, 0 to 10807\n",
            "Data columns (total 9 columns):\n",
            " #   Column         Non-Null Count  Dtype  \n",
            "---  ------         --------------  -----  \n",
            " 0   Temperature    10808 non-null  float64\n",
            " 1   Humidity       10808 non-null  float64\n",
            " 2   Light          10808 non-null  float64\n",
            " 3   CO2            10808 non-null  float64\n",
            " 4   HumidityRatio  10808 non-null  float64\n",
            " 5   month          10808 non-null  int64  \n",
            " 6   day            10808 non-null  int64  \n",
            " 7   hour           10808 non-null  int64  \n",
            " 8   minute         10808 non-null  int64  \n",
            "dtypes: float64(5), int64(4)\n",
            "memory usage: 760.1 KB\n"
          ]
        }
      ]
    },
    {
      "cell_type": "code",
      "source": [
        "y"
      ],
      "metadata": {
        "colab": {
          "base_uri": "https://localhost:8080/",
          "height": 423
        },
        "id": "TEdi15gq3wkw",
        "outputId": "f693be29-2d85-45b7-8dec-572e8d6f360a"
      },
      "execution_count": null,
      "outputs": [
        {
          "output_type": "execute_result",
          "data": {
            "text/html": [
              "<div>\n",
              "<style scoped>\n",
              "    .dataframe tbody tr th:only-of-type {\n",
              "        vertical-align: middle;\n",
              "    }\n",
              "\n",
              "    .dataframe tbody tr th {\n",
              "        vertical-align: top;\n",
              "    }\n",
              "\n",
              "    .dataframe thead th {\n",
              "        text-align: right;\n",
              "    }\n",
              "</style>\n",
              "<table border=\"1\" class=\"dataframe\">\n",
              "  <thead>\n",
              "    <tr style=\"text-align: right;\">\n",
              "      <th></th>\n",
              "      <th>Occupancy</th>\n",
              "    </tr>\n",
              "  </thead>\n",
              "  <tbody>\n",
              "    <tr>\n",
              "      <th>0</th>\n",
              "      <td>1</td>\n",
              "    </tr>\n",
              "    <tr>\n",
              "      <th>1</th>\n",
              "      <td>1</td>\n",
              "    </tr>\n",
              "    <tr>\n",
              "      <th>2</th>\n",
              "      <td>1</td>\n",
              "    </tr>\n",
              "    <tr>\n",
              "      <th>3</th>\n",
              "      <td>1</td>\n",
              "    </tr>\n",
              "    <tr>\n",
              "      <th>4</th>\n",
              "      <td>1</td>\n",
              "    </tr>\n",
              "    <tr>\n",
              "      <th>...</th>\n",
              "      <td>...</td>\n",
              "    </tr>\n",
              "    <tr>\n",
              "      <th>10803</th>\n",
              "      <td>1</td>\n",
              "    </tr>\n",
              "    <tr>\n",
              "      <th>10804</th>\n",
              "      <td>1</td>\n",
              "    </tr>\n",
              "    <tr>\n",
              "      <th>10805</th>\n",
              "      <td>1</td>\n",
              "    </tr>\n",
              "    <tr>\n",
              "      <th>10806</th>\n",
              "      <td>1</td>\n",
              "    </tr>\n",
              "    <tr>\n",
              "      <th>10807</th>\n",
              "      <td>1</td>\n",
              "    </tr>\n",
              "  </tbody>\n",
              "</table>\n",
              "<p>10808 rows × 1 columns</p>\n",
              "</div>"
            ],
            "text/plain": [
              "       Occupancy\n",
              "0              1\n",
              "1              1\n",
              "2              1\n",
              "3              1\n",
              "4              1\n",
              "...          ...\n",
              "10803          1\n",
              "10804          1\n",
              "10805          1\n",
              "10806          1\n",
              "10807          1\n",
              "\n",
              "[10808 rows x 1 columns]"
            ]
          },
          "metadata": {},
          "execution_count": 17
        }
      ]
    },
    {
      "cell_type": "code",
      "source": [
        "''' Splitting the data into Train & Test (70-30 respectively) '''\n",
        "\n",
        "from sklearn.linear_model import LogisticRegression\n",
        "from sklearn.model_selection import train_test_split"
      ],
      "metadata": {
        "id": "xNZRomys3xVk"
      },
      "execution_count": null,
      "outputs": []
    },
    {
      "cell_type": "code",
      "source": [
        "X_train, X_test, y_train, y_test = train_test_split(X, y, test_size=0.3, random_state=0)"
      ],
      "metadata": {
        "id": "-UifFrMy30jG"
      },
      "execution_count": null,
      "outputs": []
    },
    {
      "cell_type": "code",
      "source": [
        "train = X_train.join(y_train)"
      ],
      "metadata": {
        "id": "3dEoOwrY326n"
      },
      "execution_count": null,
      "outputs": []
    },
    {
      "cell_type": "code",
      "source": [
        "train.info()"
      ],
      "metadata": {
        "colab": {
          "base_uri": "https://localhost:8080/"
        },
        "id": "n9FfZiZY35AF",
        "outputId": "c3ea8321-9d38-4aa4-8c8f-ec72fb9cc80c"
      },
      "execution_count": null,
      "outputs": [
        {
          "output_type": "stream",
          "name": "stdout",
          "text": [
            "<class 'pandas.core.frame.DataFrame'>\n",
            "Int64Index: 7565 entries, 5519 to 2732\n",
            "Data columns (total 10 columns):\n",
            " #   Column         Non-Null Count  Dtype  \n",
            "---  ------         --------------  -----  \n",
            " 0   Temperature    7565 non-null   float64\n",
            " 1   Humidity       7565 non-null   float64\n",
            " 2   Light          7565 non-null   float64\n",
            " 3   CO2            7565 non-null   float64\n",
            " 4   HumidityRatio  7565 non-null   float64\n",
            " 5   month          7565 non-null   int64  \n",
            " 6   day            7565 non-null   int64  \n",
            " 7   hour           7565 non-null   int64  \n",
            " 8   minute         7565 non-null   int64  \n",
            " 9   Occupancy      7565 non-null   int64  \n",
            "dtypes: float64(5), int64(5)\n",
            "memory usage: 970.1 KB\n"
          ]
        }
      ]
    },
    {
      "cell_type": "code",
      "source": [
        "no_Occupancy = train[train.Occupancy == 0] \n",
        "len(no_Occupancy)"
      ],
      "metadata": {
        "colab": {
          "base_uri": "https://localhost:8080/"
        },
        "id": "Mt_tasUv368E",
        "outputId": "53a00e01-0c70-4b1c-bfb5-1437f4fad23d"
      },
      "execution_count": null,
      "outputs": [
        {
          "output_type": "execute_result",
          "data": {
            "text/plain": [
              "5718"
            ]
          },
          "metadata": {},
          "execution_count": 22
        }
      ]
    },
    {
      "cell_type": "code",
      "source": [
        "yes_Occupancy = train[train.Occupancy == 1] \n",
        "len(yes_Occupancy)"
      ],
      "metadata": {
        "colab": {
          "base_uri": "https://localhost:8080/"
        },
        "id": "fNG6UBxQ4EL5",
        "outputId": "1a456716-d53a-4040-a2ea-44ea7f532985"
      },
      "execution_count": null,
      "outputs": [
        {
          "output_type": "execute_result",
          "data": {
            "text/plain": [
              "1847"
            ]
          },
          "metadata": {},
          "execution_count": 23
        }
      ]
    },
    {
      "cell_type": "code",
      "source": [
        "from sklearn.utils import resample"
      ],
      "metadata": {
        "id": "Fl4f8bxX4R4C"
      },
      "execution_count": null,
      "outputs": []
    },
    {
      "cell_type": "code",
      "source": [
        "# Smote is done - over sampling\n",
        "yes_Occupancy_os = resample(yes_Occupancy,\n",
        "                          replace = True, \n",
        "                          n_samples = len(no_Occupancy),\n",
        "                          random_state = 14)"
      ],
      "metadata": {
        "id": "T4KKjCQs4bl_"
      },
      "execution_count": null,
      "outputs": []
    },
    {
      "cell_type": "code",
      "source": [
        "train_os = pd.concat([yes_Occupancy_os, no_Occupancy])"
      ],
      "metadata": {
        "id": "nejK6W-741EJ"
      },
      "execution_count": null,
      "outputs": []
    },
    {
      "cell_type": "code",
      "source": [
        "train_os.Occupancy.value_counts()"
      ],
      "metadata": {
        "colab": {
          "base_uri": "https://localhost:8080/"
        },
        "id": "p-9dZCrh5F3v",
        "outputId": "bf65c3ca-c845-4711-b5c4-91a5f38e0450"
      },
      "execution_count": null,
      "outputs": [
        {
          "output_type": "execute_result",
          "data": {
            "text/plain": [
              "1    5718\n",
              "0    5718\n",
              "Name: Occupancy, dtype: int64"
            ]
          },
          "metadata": {},
          "execution_count": 27
        }
      ]
    },
    {
      "cell_type": "code",
      "source": [
        "X_train_os = train_os.loc[:, train_os.columns != 'Occupancy']\n",
        "y_train_os = train_os.loc[:, train_os.columns == 'Occupancy']"
      ],
      "metadata": {
        "id": "e749Rdlk5cCN"
      },
      "execution_count": null,
      "outputs": []
    },
    {
      "cell_type": "markdown",
      "metadata": {
        "id": "3ggRmwvHXs3c"
      },
      "source": [
        "**#Recurrsive Feature Elimination**"
      ]
    },
    {
      "cell_type": "code",
      "source": [
        "from sklearn import datasets\n",
        "from sklearn.feature_selection import RFE\n",
        "from sklearn.linear_model import LogisticRegression"
      ],
      "metadata": {
        "id": "XXlgDZox5_zq"
      },
      "execution_count": null,
      "outputs": []
    },
    {
      "cell_type": "code",
      "source": [
        "logreg = LogisticRegression(max_iter=10000000)"
      ],
      "metadata": {
        "id": "Q5a8uRRh6Bo-"
      },
      "execution_count": null,
      "outputs": []
    },
    {
      "cell_type": "code",
      "source": [
        "rfe = RFE(logreg, n_features_to_select=6)"
      ],
      "metadata": {
        "id": "Q8HIQqg46JRD"
      },
      "execution_count": null,
      "outputs": []
    },
    {
      "cell_type": "code",
      "source": [
        "rfe = rfe.fit(X_train_os, y_train_os.values.ravel())"
      ],
      "metadata": {
        "id": "oE2tg6l16Npm"
      },
      "execution_count": null,
      "outputs": []
    },
    {
      "cell_type": "code",
      "source": [
        "rfe.n_features_to_select"
      ],
      "metadata": {
        "colab": {
          "base_uri": "https://localhost:8080/"
        },
        "id": "iOTUIs_J6P30",
        "outputId": "8b866604-6496-48c4-f870-988f03820be5"
      },
      "execution_count": null,
      "outputs": [
        {
          "output_type": "execute_result",
          "data": {
            "text/plain": [
              "6"
            ]
          },
          "metadata": {},
          "execution_count": 33
        }
      ]
    },
    {
      "cell_type": "code",
      "source": [
        "X_train_os.columns[rfe.get_support()]"
      ],
      "metadata": {
        "colab": {
          "base_uri": "https://localhost:8080/"
        },
        "id": "paKXKE_a6WQw",
        "outputId": "8a9fc8da-3bd1-4899-c44a-b12821ba9c3b"
      },
      "execution_count": null,
      "outputs": [
        {
          "output_type": "execute_result",
          "data": {
            "text/plain": [
              "Index(['Temperature', 'Humidity', 'Light', 'month', 'day', 'minute'], dtype='object')"
            ]
          },
          "metadata": {},
          "execution_count": 34
        }
      ]
    },
    {
      "cell_type": "code",
      "source": [
        "cols = X_train_os.columns[rfe.get_support()]"
      ],
      "metadata": {
        "id": "dHKxoe0d6ZLa"
      },
      "execution_count": null,
      "outputs": []
    },
    {
      "cell_type": "code",
      "source": [
        "cols.to_list()"
      ],
      "metadata": {
        "colab": {
          "base_uri": "https://localhost:8080/"
        },
        "id": "N6xACeOA6cQh",
        "outputId": "add47889-909f-4fe3-81bf-7d95994b12b0"
      },
      "execution_count": null,
      "outputs": [
        {
          "output_type": "execute_result",
          "data": {
            "text/plain": [
              "['Temperature', 'Humidity', 'Light', 'month', 'day', 'minute']"
            ]
          },
          "metadata": {},
          "execution_count": 36
        }
      ]
    },
    {
      "cell_type": "markdown",
      "metadata": {
        "id": "alUxwtrkYIRa"
      },
      "source": [
        "**#Logistic Model by statistic apporach**"
      ]
    },
    {
      "cell_type": "code",
      "source": [
        "#________________________________sm model to see p_values \n",
        "x1 = X_train_os[cols] "
      ],
      "metadata": {
        "id": "vJdaFidF6npR"
      },
      "execution_count": null,
      "outputs": []
    },
    {
      "cell_type": "code",
      "source": [
        "x1.info()"
      ],
      "metadata": {
        "colab": {
          "base_uri": "https://localhost:8080/"
        },
        "id": "R2XpYy686oJ1",
        "outputId": "418d72e3-2319-4a6d-be1f-231a99eca2e1"
      },
      "execution_count": null,
      "outputs": [
        {
          "output_type": "stream",
          "name": "stdout",
          "text": [
            "<class 'pandas.core.frame.DataFrame'>\n",
            "Int64Index: 11436 entries, 2601 to 2732\n",
            "Data columns (total 6 columns):\n",
            " #   Column       Non-Null Count  Dtype  \n",
            "---  ------       --------------  -----  \n",
            " 0   Temperature  11436 non-null  float64\n",
            " 1   Humidity     11436 non-null  float64\n",
            " 2   Light        11436 non-null  float64\n",
            " 3   month        11436 non-null  int64  \n",
            " 4   day          11436 non-null  int64  \n",
            " 5   minute       11436 non-null  int64  \n",
            "dtypes: float64(3), int64(3)\n",
            "memory usage: 625.4 KB\n"
          ]
        }
      ]
    },
    {
      "cell_type": "code",
      "source": [
        "y_train_os.info()"
      ],
      "metadata": {
        "colab": {
          "base_uri": "https://localhost:8080/"
        },
        "id": "fn1cv1h468Yg",
        "outputId": "374a2c6a-3870-40fc-d0f5-bb56da297d4b"
      },
      "execution_count": null,
      "outputs": [
        {
          "output_type": "stream",
          "name": "stdout",
          "text": [
            "<class 'pandas.core.frame.DataFrame'>\n",
            "Int64Index: 11436 entries, 2601 to 2732\n",
            "Data columns (total 1 columns):\n",
            " #   Column     Non-Null Count  Dtype\n",
            "---  ------     --------------  -----\n",
            " 0   Occupancy  11436 non-null  int64\n",
            "dtypes: int64(1)\n",
            "memory usage: 178.7 KB\n"
          ]
        }
      ]
    },
    {
      "cell_type": "code",
      "source": [
        "y_train_os.value_counts()"
      ],
      "metadata": {
        "colab": {
          "base_uri": "https://localhost:8080/"
        },
        "id": "untR-mfO6_Bg",
        "outputId": "550d864a-7ca0-4310-8e58-437057cc589e"
      },
      "execution_count": null,
      "outputs": [
        {
          "output_type": "execute_result",
          "data": {
            "text/plain": [
              "Occupancy\n",
              "1            5718\n",
              "0            5718\n",
              "dtype: int64"
            ]
          },
          "metadata": {},
          "execution_count": 40
        }
      ]
    },
    {
      "cell_type": "code",
      "source": [
        "y1 = y_train_os"
      ],
      "metadata": {
        "id": "oFjC6sDf7CND"
      },
      "execution_count": null,
      "outputs": []
    },
    {
      "cell_type": "code",
      "source": [
        "y1"
      ],
      "metadata": {
        "colab": {
          "base_uri": "https://localhost:8080/",
          "height": 423
        },
        "id": "tohS-8CY7LT4",
        "outputId": "b4684de7-5d40-4a16-d115-bee7cdb869d5"
      },
      "execution_count": null,
      "outputs": [
        {
          "output_type": "execute_result",
          "data": {
            "text/html": [
              "<div>\n",
              "<style scoped>\n",
              "    .dataframe tbody tr th:only-of-type {\n",
              "        vertical-align: middle;\n",
              "    }\n",
              "\n",
              "    .dataframe tbody tr th {\n",
              "        vertical-align: top;\n",
              "    }\n",
              "\n",
              "    .dataframe thead th {\n",
              "        text-align: right;\n",
              "    }\n",
              "</style>\n",
              "<table border=\"1\" class=\"dataframe\">\n",
              "  <thead>\n",
              "    <tr style=\"text-align: right;\">\n",
              "      <th></th>\n",
              "      <th>Occupancy</th>\n",
              "    </tr>\n",
              "  </thead>\n",
              "  <tbody>\n",
              "    <tr>\n",
              "      <th>2601</th>\n",
              "      <td>1</td>\n",
              "    </tr>\n",
              "    <tr>\n",
              "      <th>2556</th>\n",
              "      <td>1</td>\n",
              "    </tr>\n",
              "    <tr>\n",
              "      <th>5484</th>\n",
              "      <td>1</td>\n",
              "    </tr>\n",
              "    <tr>\n",
              "      <th>9707</th>\n",
              "      <td>1</td>\n",
              "    </tr>\n",
              "    <tr>\n",
              "      <th>5333</th>\n",
              "      <td>1</td>\n",
              "    </tr>\n",
              "    <tr>\n",
              "      <th>...</th>\n",
              "      <td>...</td>\n",
              "    </tr>\n",
              "    <tr>\n",
              "      <th>7891</th>\n",
              "      <td>0</td>\n",
              "    </tr>\n",
              "    <tr>\n",
              "      <th>9225</th>\n",
              "      <td>0</td>\n",
              "    </tr>\n",
              "    <tr>\n",
              "      <th>4859</th>\n",
              "      <td>0</td>\n",
              "    </tr>\n",
              "    <tr>\n",
              "      <th>3264</th>\n",
              "      <td>0</td>\n",
              "    </tr>\n",
              "    <tr>\n",
              "      <th>2732</th>\n",
              "      <td>0</td>\n",
              "    </tr>\n",
              "  </tbody>\n",
              "</table>\n",
              "<p>11436 rows × 1 columns</p>\n",
              "</div>"
            ],
            "text/plain": [
              "      Occupancy\n",
              "2601          1\n",
              "2556          1\n",
              "5484          1\n",
              "9707          1\n",
              "5333          1\n",
              "...         ...\n",
              "7891          0\n",
              "9225          0\n",
              "4859          0\n",
              "3264          0\n",
              "2732          0\n",
              "\n",
              "[11436 rows x 1 columns]"
            ]
          },
          "metadata": {},
          "execution_count": 42
        }
      ]
    },
    {
      "cell_type": "code",
      "source": [
        "#____________Stats model\n",
        "import statsmodels.api as sm"
      ],
      "metadata": {
        "id": "13gzxYkI7NP0"
      },
      "execution_count": null,
      "outputs": []
    },
    {
      "cell_type": "code",
      "source": [
        "x1.info()"
      ],
      "metadata": {
        "colab": {
          "base_uri": "https://localhost:8080/"
        },
        "id": "OIwqvrjN7QTz",
        "outputId": "63dbddde-9c5e-47ff-9a21-fd46a1250756"
      },
      "execution_count": null,
      "outputs": [
        {
          "output_type": "stream",
          "name": "stdout",
          "text": [
            "<class 'pandas.core.frame.DataFrame'>\n",
            "Int64Index: 11436 entries, 2601 to 2732\n",
            "Data columns (total 6 columns):\n",
            " #   Column       Non-Null Count  Dtype  \n",
            "---  ------       --------------  -----  \n",
            " 0   Temperature  11436 non-null  float64\n",
            " 1   Humidity     11436 non-null  float64\n",
            " 2   Light        11436 non-null  float64\n",
            " 3   month        11436 non-null  int64  \n",
            " 4   day          11436 non-null  int64  \n",
            " 5   minute       11436 non-null  int64  \n",
            "dtypes: float64(3), int64(3)\n",
            "memory usage: 625.4 KB\n"
          ]
        }
      ]
    },
    {
      "cell_type": "code",
      "source": [
        "y1.info()"
      ],
      "metadata": {
        "colab": {
          "base_uri": "https://localhost:8080/"
        },
        "id": "0QZSKyhF7Svr",
        "outputId": "ad61c26c-cdfa-4f56-d687-f774d6d96298"
      },
      "execution_count": null,
      "outputs": [
        {
          "output_type": "stream",
          "name": "stdout",
          "text": [
            "<class 'pandas.core.frame.DataFrame'>\n",
            "Int64Index: 11436 entries, 2601 to 2732\n",
            "Data columns (total 1 columns):\n",
            " #   Column     Non-Null Count  Dtype\n",
            "---  ------     --------------  -----\n",
            " 0   Occupancy  11436 non-null  int64\n",
            "dtypes: int64(1)\n",
            "memory usage: 178.7 KB\n"
          ]
        }
      ]
    },
    {
      "cell_type": "code",
      "source": [
        "logit_model = sm.Logit(y1,x1)"
      ],
      "metadata": {
        "id": "mpG5coeZ7ZsP"
      },
      "execution_count": null,
      "outputs": []
    },
    {
      "cell_type": "code",
      "source": [
        "result = logit_model.fit(method='bfgs')"
      ],
      "metadata": {
        "colab": {
          "base_uri": "https://localhost:8080/"
        },
        "id": "GPWaqnpDlk_A",
        "outputId": "d941353c-944a-47d2-bcca-5c3d7712a36c"
      },
      "execution_count": null,
      "outputs": [
        {
          "output_type": "stream",
          "name": "stderr",
          "text": [
            "/usr/local/lib/python3.7/dist-packages/statsmodels/discrete/discrete_model.py:1736: RuntimeWarning: overflow encountered in exp\n",
            "  return 1/(1+np.exp(-X))\n",
            "/usr/local/lib/python3.7/dist-packages/statsmodels/discrete/discrete_model.py:1789: RuntimeWarning: divide by zero encountered in log\n",
            "  return np.sum(np.log(self.cdf(q*np.dot(X,params))))\n",
            "/usr/local/lib/python3.7/dist-packages/statsmodels/discrete/discrete_model.py:1736: RuntimeWarning: overflow encountered in exp\n",
            "  return 1/(1+np.exp(-X))\n",
            "/usr/local/lib/python3.7/dist-packages/statsmodels/discrete/discrete_model.py:1789: RuntimeWarning: divide by zero encountered in log\n",
            "  return np.sum(np.log(self.cdf(q*np.dot(X,params))))\n"
          ]
        },
        {
          "output_type": "stream",
          "name": "stdout",
          "text": [
            "Warning: Maximum number of iterations has been exceeded.\n",
            "         Current function value: 0.057369\n",
            "         Iterations: 35\n",
            "         Function evaluations: 45\n",
            "         Gradient evaluations: 40\n"
          ]
        },
        {
          "output_type": "stream",
          "name": "stderr",
          "text": [
            "/usr/local/lib/python3.7/dist-packages/statsmodels/base/model.py:512: ConvergenceWarning: Maximum Likelihood optimization failed to converge. Check mle_retvals\n",
            "  \"Check mle_retvals\", ConvergenceWarning)\n"
          ]
        }
      ]
    },
    {
      "cell_type": "code",
      "source": [
        "print(result.summary2())"
      ],
      "metadata": {
        "colab": {
          "base_uri": "https://localhost:8080/"
        },
        "id": "3-yLOK8BltyB",
        "outputId": "109fdb24-9444-43c2-b427-1306badaf373"
      },
      "execution_count": null,
      "outputs": [
        {
          "output_type": "stream",
          "name": "stdout",
          "text": [
            "                         Results: Logit\n",
            "================================================================\n",
            "Model:              Logit            Pseudo R-squared: 0.917    \n",
            "Dependent Variable: Occupancy        AIC:              1324.1428\n",
            "Date:               2021-12-15 10:16 BIC:              1368.2099\n",
            "No. Observations:   11436            Log-Likelihood:   -656.07  \n",
            "Df Model:           5                LL-Null:          -7926.8  \n",
            "Df Residuals:       11430            LLR p-value:      0.0000   \n",
            "Converged:          0.0000           Scale:            1.0000   \n",
            "----------------------------------------------------------------\n",
            "                 Coef.  Std.Err.    z     P>|z|   [0.025  0.975]\n",
            "----------------------------------------------------------------\n",
            "Temperature     -0.5383   0.0337 -15.9693 0.0000 -0.6043 -0.4722\n",
            "Humidity         0.2309   0.0206  11.2104 0.0000  0.1906  0.2713\n",
            "Light            0.0257   0.0009  28.2780 0.0000  0.0240  0.0275\n",
            "month           -0.0981   0.0512  -1.9169 0.0553 -0.1984  0.0022\n",
            "day             -0.3191   0.0437  -7.3038 0.0000 -0.4047 -0.2334\n",
            "minute          -0.0131   0.0046  -2.8535 0.0043 -0.0221 -0.0041\n",
            "================================================================\n",
            "\n"
          ]
        }
      ]
    },
    {
      "cell_type": "markdown",
      "source": [
        "**#Logistic model by SK learn method**"
      ],
      "metadata": {
        "id": "LfXNllTqmbtA"
      }
    },
    {
      "cell_type": "code",
      "source": [
        "from sklearn.linear_model import LogisticRegression\n",
        "from sklearn import metrics"
      ],
      "metadata": {
        "id": "eQpFa_9sl_nO"
      },
      "execution_count": null,
      "outputs": []
    },
    {
      "cell_type": "code",
      "source": [
        "logreg= LogisticRegression(solver= 'sag')\n",
        "logreg.fit(x1, y1)"
      ],
      "metadata": {
        "colab": {
          "base_uri": "https://localhost:8080/"
        },
        "id": "Od1TKUwJma43",
        "outputId": "3baab7f9-ac38-4564-93f9-22921478f344"
      },
      "execution_count": null,
      "outputs": [
        {
          "output_type": "stream",
          "name": "stderr",
          "text": [
            "/usr/local/lib/python3.7/dist-packages/sklearn/utils/validation.py:985: DataConversionWarning: A column-vector y was passed when a 1d array was expected. Please change the shape of y to (n_samples, ), for example using ravel().\n",
            "  y = column_or_1d(y, warn=True)\n",
            "/usr/local/lib/python3.7/dist-packages/sklearn/linear_model/_sag.py:354: ConvergenceWarning: The max_iter was reached which means the coef_ did not converge\n",
            "  ConvergenceWarning,\n"
          ]
        },
        {
          "output_type": "execute_result",
          "data": {
            "text/plain": [
              "LogisticRegression(solver='sag')"
            ]
          },
          "metadata": {},
          "execution_count": 50
        }
      ]
    },
    {
      "cell_type": "code",
      "source": [
        "## X_test should alsso have only 2 columns\n",
        "X_test2= X_test[cols]"
      ],
      "metadata": {
        "id": "1XIuRjN4mh1D"
      },
      "execution_count": null,
      "outputs": []
    },
    {
      "cell_type": "code",
      "source": [
        "X_test2.info()"
      ],
      "metadata": {
        "colab": {
          "base_uri": "https://localhost:8080/"
        },
        "id": "y4PEvnZ1mnRe",
        "outputId": "59d243dc-1bec-4532-cd58-bd75131f7887"
      },
      "execution_count": null,
      "outputs": [
        {
          "output_type": "stream",
          "name": "stdout",
          "text": [
            "<class 'pandas.core.frame.DataFrame'>\n",
            "Int64Index: 3243 entries, 5862 to 3981\n",
            "Data columns (total 6 columns):\n",
            " #   Column       Non-Null Count  Dtype  \n",
            "---  ------       --------------  -----  \n",
            " 0   Temperature  3243 non-null   float64\n",
            " 1   Humidity     3243 non-null   float64\n",
            " 2   Light        3243 non-null   float64\n",
            " 3   month        3243 non-null   int64  \n",
            " 4   day          3243 non-null   int64  \n",
            " 5   minute       3243 non-null   int64  \n",
            "dtypes: float64(3), int64(3)\n",
            "memory usage: 177.4 KB\n"
          ]
        }
      ]
    },
    {
      "cell_type": "code",
      "source": [
        "y_pred= logreg.predict(X_test2)"
      ],
      "metadata": {
        "id": "eYxCyTQMmppA"
      },
      "execution_count": null,
      "outputs": []
    },
    {
      "cell_type": "code",
      "source": [
        "log_score= logreg.score(X_test2, y_test)"
      ],
      "metadata": {
        "id": "zvyEtMe3mssm"
      },
      "execution_count": null,
      "outputs": []
    },
    {
      "cell_type": "code",
      "source": [
        "print(\"Accuracy of logistic regression classifier on test data:{}\".format(log_score))"
      ],
      "metadata": {
        "colab": {
          "base_uri": "https://localhost:8080/"
        },
        "id": "WQhNOCxamxZa",
        "outputId": "c0668934-bafa-482d-c8d1-9c039166c66e"
      },
      "execution_count": null,
      "outputs": [
        {
          "output_type": "stream",
          "name": "stdout",
          "text": [
            "Accuracy of logistic regression classifier on test data:0.9821153253160654\n"
          ]
        }
      ]
    },
    {
      "cell_type": "code",
      "source": [
        "from sklearn.metrics import confusion_matrix"
      ],
      "metadata": {
        "id": "GK-LEM9mm0Jm"
      },
      "execution_count": null,
      "outputs": []
    },
    {
      "cell_type": "code",
      "source": [
        "confusion_matrix = confusion_matrix(y_test, y_pred)\n",
        "print(confusion_matrix)"
      ],
      "metadata": {
        "colab": {
          "base_uri": "https://localhost:8080/"
        },
        "id": "JEoFTBPem4K6",
        "outputId": "150114ee-cba3-41f8-e7ad-41ecdb29814b"
      },
      "execution_count": null,
      "outputs": [
        {
          "output_type": "stream",
          "name": "stdout",
          "text": [
            "[[2333   56]\n",
            " [   2  852]]\n"
          ]
        }
      ]
    },
    {
      "cell_type": "code",
      "source": [
        "from sklearn.metrics import classification_report\n",
        "print(classification_report(y_test, y_pred))"
      ],
      "metadata": {
        "colab": {
          "base_uri": "https://localhost:8080/"
        },
        "id": "pW-SaVfbm8yh",
        "outputId": "512150da-b97e-42fa-9333-8e31a10f4a4a"
      },
      "execution_count": null,
      "outputs": [
        {
          "output_type": "stream",
          "name": "stdout",
          "text": [
            "              precision    recall  f1-score   support\n",
            "\n",
            "           0       1.00      0.98      0.99      2389\n",
            "           1       0.94      1.00      0.97       854\n",
            "\n",
            "    accuracy                           0.98      3243\n",
            "   macro avg       0.97      0.99      0.98      3243\n",
            "weighted avg       0.98      0.98      0.98      3243\n",
            "\n"
          ]
        }
      ]
    },
    {
      "cell_type": "code",
      "source": [
        "from sklearn.metrics import roc_auc_score\n",
        "from sklearn.metrics import roc_curve"
      ],
      "metadata": {
        "id": "prri-Oz4m_Lv"
      },
      "execution_count": null,
      "outputs": []
    },
    {
      "cell_type": "code",
      "source": [
        "logit_roc_auc = roc_auc_score(y_test, logreg.predict(X_test2))\n",
        "logit_roc_auc"
      ],
      "metadata": {
        "colab": {
          "base_uri": "https://localhost:8080/"
        },
        "id": "Oj4HGztSnCbV",
        "outputId": "5cf57ac1-e998-494f-dddd-413ba9dd494a"
      },
      "execution_count": null,
      "outputs": [
        {
          "output_type": "execute_result",
          "data": {
            "text/plain": [
              "0.9871086547142788"
            ]
          },
          "metadata": {},
          "execution_count": 60
        }
      ]
    },
    {
      "cell_type": "code",
      "source": [
        "\"\"  Area under curve is 0.987   \"\""
      ],
      "metadata": {
        "id": "jTvuhh0JnE5S"
      },
      "execution_count": null,
      "outputs": []
    },
    {
      "cell_type": "code",
      "source": [
        "fpr, tpr, thresholds = roc_curve(y_test, logreg.predict_proba(X_test2)[:,1])\n",
        "plt.figure()\n",
        "plt.plot(fpr, tpr, label='Logistic Regression (area = %0.2f)' % logit_roc_auc)\n",
        "plt.plot([0, 1], [0, 1],'r--')\n",
        "plt.xlim([-0.1, 1.0])\n",
        "plt.ylim([0.0, 1.05])\n",
        "plt.xlabel('False Positive Rate (1-specificity)')\n",
        "plt.ylabel('True Positive Rate (Sensitivity)')\n",
        "plt.title('ROC - AUC for Logistic Model')\n",
        "plt.legend(loc=\"lower right\")\n",
        "plt.show()"
      ],
      "metadata": {
        "colab": {
          "base_uri": "https://localhost:8080/",
          "height": 295
        },
        "id": "9UANWALPnSR2",
        "outputId": "69fd9995-8e07-44e8-d4e5-9e739255f35d"
      },
      "execution_count": null,
      "outputs": [
        {
          "output_type": "display_data",
          "data": {
            "image/png": "[encoded data removed]",
            "text/plain": [
              "<Figure size 432x288 with 1 Axes>"
            ]
          },
          "metadata": {
            "needs_background": "light"
          }
        }
      ]
    },
    {
      "cell_type": "markdown",
      "source": [
        "**# DECISION TREE**"
      ],
      "metadata": {
        "id": "XCqFgtKonYqY"
      }
    },
    {
      "cell_type": "code",
      "source": [
        "df.info()"
      ],
      "metadata": {
        "colab": {
          "base_uri": "https://localhost:8080/"
        },
        "id": "kfj9aMLOnUoN",
        "outputId": "e3b5f830-3d90-4c77-feb3-618d60c0c177"
      },
      "execution_count": null,
      "outputs": [
        {
          "output_type": "stream",
          "name": "stdout",
          "text": [
            "<class 'pandas.core.frame.DataFrame'>\n",
            "RangeIndex: 10808 entries, 0 to 10807\n",
            "Data columns (total 10 columns):\n",
            " #   Column         Non-Null Count  Dtype  \n",
            "---  ------         --------------  -----  \n",
            " 0   Temperature    10808 non-null  float64\n",
            " 1   Humidity       10808 non-null  float64\n",
            " 2   Light          10808 non-null  float64\n",
            " 3   CO2            10808 non-null  float64\n",
            " 4   HumidityRatio  10808 non-null  float64\n",
            " 5   Occupancy      10808 non-null  int64  \n",
            " 6   month          10808 non-null  int64  \n",
            " 7   day            10808 non-null  int64  \n",
            " 8   hour           10808 non-null  int64  \n",
            " 9   minute         10808 non-null  int64  \n",
            "dtypes: float64(5), int64(5)\n",
            "memory usage: 844.5 KB\n"
          ]
        }
      ]
    },
    {
      "cell_type": "code",
      "source": [
        "X_train_os = train_os.loc[:, train_os.columns != 'Occupancy']\n",
        "y_train_os = train_os.loc[:, train_os.columns == 'Occupancy']"
      ],
      "metadata": {
        "id": "Gd1MpYJ-nkWS"
      },
      "execution_count": null,
      "outputs": []
    },
    {
      "cell_type": "code",
      "source": [
        "X.info()"
      ],
      "metadata": {
        "colab": {
          "base_uri": "https://localhost:8080/"
        },
        "id": "fVv-ujAznyB_",
        "outputId": "d74f107f-9e26-45e2-b277-99196bf1e651"
      },
      "execution_count": null,
      "outputs": [
        {
          "output_type": "stream",
          "name": "stdout",
          "text": [
            "<class 'pandas.core.frame.DataFrame'>\n",
            "RangeIndex: 10808 entries, 0 to 10807\n",
            "Data columns (total 9 columns):\n",
            " #   Column         Non-Null Count  Dtype  \n",
            "---  ------         --------------  -----  \n",
            " 0   Temperature    10808 non-null  float64\n",
            " 1   Humidity       10808 non-null  float64\n",
            " 2   Light          10808 non-null  float64\n",
            " 3   CO2            10808 non-null  float64\n",
            " 4   HumidityRatio  10808 non-null  float64\n",
            " 5   month          10808 non-null  int64  \n",
            " 6   day            10808 non-null  int64  \n",
            " 7   hour           10808 non-null  int64  \n",
            " 8   minute         10808 non-null  int64  \n",
            "dtypes: float64(5), int64(4)\n",
            "memory usage: 760.1 KB\n"
          ]
        }
      ]
    },
    {
      "cell_type": "code",
      "source": [
        "y"
      ],
      "metadata": {
        "colab": {
          "base_uri": "https://localhost:8080/",
          "height": 423
        },
        "id": "v6Ih_G1Wn3Jy",
        "outputId": "a6eec43a-b1b5-4063-83a2-0a246dbc4df4"
      },
      "execution_count": null,
      "outputs": [
        {
          "output_type": "execute_result",
          "data": {
            "text/html": [
              "<div>\n",
              "<style scoped>\n",
              "    .dataframe tbody tr th:only-of-type {\n",
              "        vertical-align: middle;\n",
              "    }\n",
              "\n",
              "    .dataframe tbody tr th {\n",
              "        vertical-align: top;\n",
              "    }\n",
              "\n",
              "    .dataframe thead th {\n",
              "        text-align: right;\n",
              "    }\n",
              "</style>\n",
              "<table border=\"1\" class=\"dataframe\">\n",
              "  <thead>\n",
              "    <tr style=\"text-align: right;\">\n",
              "      <th></th>\n",
              "      <th>Occupancy</th>\n",
              "    </tr>\n",
              "  </thead>\n",
              "  <tbody>\n",
              "    <tr>\n",
              "      <th>0</th>\n",
              "      <td>1</td>\n",
              "    </tr>\n",
              "    <tr>\n",
              "      <th>1</th>\n",
              "      <td>1</td>\n",
              "    </tr>\n",
              "    <tr>\n",
              "      <th>2</th>\n",
              "      <td>1</td>\n",
              "    </tr>\n",
              "    <tr>\n",
              "      <th>3</th>\n",
              "      <td>1</td>\n",
              "    </tr>\n",
              "    <tr>\n",
              "      <th>4</th>\n",
              "      <td>1</td>\n",
              "    </tr>\n",
              "    <tr>\n",
              "      <th>...</th>\n",
              "      <td>...</td>\n",
              "    </tr>\n",
              "    <tr>\n",
              "      <th>10803</th>\n",
              "      <td>1</td>\n",
              "    </tr>\n",
              "    <tr>\n",
              "      <th>10804</th>\n",
              "      <td>1</td>\n",
              "    </tr>\n",
              "    <tr>\n",
              "      <th>10805</th>\n",
              "      <td>1</td>\n",
              "    </tr>\n",
              "    <tr>\n",
              "      <th>10806</th>\n",
              "      <td>1</td>\n",
              "    </tr>\n",
              "    <tr>\n",
              "      <th>10807</th>\n",
              "      <td>1</td>\n",
              "    </tr>\n",
              "  </tbody>\n",
              "</table>\n",
              "<p>10808 rows × 1 columns</p>\n",
              "</div>"
            ],
            "text/plain": [
              "       Occupancy\n",
              "0              1\n",
              "1              1\n",
              "2              1\n",
              "3              1\n",
              "4              1\n",
              "...          ...\n",
              "10803          1\n",
              "10804          1\n",
              "10805          1\n",
              "10806          1\n",
              "10807          1\n",
              "\n",
              "[10808 rows x 1 columns]"
            ]
          },
          "metadata": {},
          "execution_count": 65
        }
      ]
    },
    {
      "cell_type": "code",
      "source": [
        "'''Fit Tree'''\n",
        "#train test - split \n",
        "\n",
        "from sklearn.model_selection import train_test_split"
      ],
      "metadata": {
        "id": "P82DW7ePn5pO"
      },
      "execution_count": null,
      "outputs": []
    },
    {
      "cell_type": "code",
      "source": [
        "X_train, X_test, y_train, y_test = train_test_split(X, y, test_size=0.3, random_state=0)"
      ],
      "metadata": {
        "id": "jV5EGiDOn8rG"
      },
      "execution_count": null,
      "outputs": []
    },
    {
      "cell_type": "code",
      "source": [
        "from sklearn.tree import DecisionTreeClassifier"
      ],
      "metadata": {
        "id": "PwSmWIFjn_EX"
      },
      "execution_count": null,
      "outputs": []
    },
    {
      "cell_type": "code",
      "source": [
        "#fit tree on train data\n",
        "#model\n",
        "clf = DecisionTreeClassifier()"
      ],
      "metadata": {
        "id": "E8dN1KTnoBOm"
      },
      "execution_count": null,
      "outputs": []
    },
    {
      "cell_type": "code",
      "source": [
        "#Fit Classifier model on train set \n",
        "clf.fit(X_train, y_train)"
      ],
      "metadata": {
        "colab": {
          "base_uri": "https://localhost:8080/"
        },
        "id": "aSSdFwAnoDl4",
        "outputId": "6302d045-10e6-4463-b7fe-3771932ed141"
      },
      "execution_count": null,
      "outputs": [
        {
          "output_type": "execute_result",
          "data": {
            "text/plain": [
              "DecisionTreeClassifier()"
            ]
          },
          "metadata": {},
          "execution_count": 70
        }
      ]
    },
    {
      "cell_type": "code",
      "source": [
        "#Predict/estimate_train  X_train\n",
        "y_pred_train = clf.predict(X_train)"
      ],
      "metadata": {
        "id": "yQPW_5ZqoGDw"
      },
      "execution_count": null,
      "outputs": []
    },
    {
      "cell_type": "code",
      "source": [
        "y_pred_train"
      ],
      "metadata": {
        "colab": {
          "base_uri": "https://localhost:8080/"
        },
        "id": "P551COOgoIeA",
        "outputId": "5f2516a3-af5a-4711-a845-173f590db0b7"
      },
      "execution_count": null,
      "outputs": [
        {
          "output_type": "execute_result",
          "data": {
            "text/plain": [
              "array([1, 0, 0, ..., 1, 1, 0])"
            ]
          },
          "metadata": {},
          "execution_count": 72
        }
      ]
    },
    {
      "cell_type": "code",
      "source": [
        "#Predict/estimate_test  X_test\n",
        "y_pred_test = clf.predict(X_test)"
      ],
      "metadata": {
        "id": "htv8YhH5oNSG"
      },
      "execution_count": null,
      "outputs": []
    },
    {
      "cell_type": "code",
      "source": [
        "y_pred_test"
      ],
      "metadata": {
        "colab": {
          "base_uri": "https://localhost:8080/"
        },
        "id": "9TYFnlvroR6e",
        "outputId": "43b746ca-916d-4432-ec33-8003c038c0ad"
      },
      "execution_count": null,
      "outputs": [
        {
          "output_type": "execute_result",
          "data": {
            "text/plain": [
              "array([0, 0, 0, ..., 1, 0, 1])"
            ]
          },
          "metadata": {},
          "execution_count": 74
        }
      ]
    },
    {
      "cell_type": "code",
      "source": [
        "#See the train \n",
        "from sklearn import tree"
      ],
      "metadata": {
        "id": "6U1E0__qoUJ9"
      },
      "execution_count": null,
      "outputs": []
    },
    {
      "cell_type": "code",
      "source": [
        "tree.plot_tree(clf.fit(X_train, y_train))"
      ],
      "metadata": {
        "colab": {
          "base_uri": "https://localhost:8080/",
          "height": 1000
        },
        "id": "6XbVrUVdoXRo",
        "outputId": "4dacd7d5-a282-48f2-e720-051cc4c6da63"
      },
      "execution_count": null,
      "outputs": [
        {
          "output_type": "execute_result",
          "data": {
            "text/plain": [
              "[Text(98.3426674364896, 211.4, 'X[2] <= 365.125\\ngini = 0.369\\nsamples = 7565\\nvalue = [5718, 1847]'),\n",
              " Text(46.392609699769054, 199.32, 'X[1] <= 37.718\\ngini = 0.004\\nsamples = 5623\\nvalue = [5613, 10]'),\n",
              " Text(40.20692840646651, 187.24, 'X[2] <= 289.25\\ngini = 0.003\\nsamples = 5621\\nvalue = [5613, 8]'),\n",
              " Text(24.74272517321016, 175.16, 'X[3] <= 1238.833\\ngini = 0.001\\nsamples = 5510\\nvalue = [5508, 2]'),\n",
              " Text(12.37136258660508, 163.07999999999998, 'X[2] <= 212.0\\ngini = 0.0\\nsamples = 5464\\nvalue = [5463, 1]'),\n",
              " Text(6.18568129330254, 151.0, 'gini = 0.0\\nsamples = 5391\\nvalue = [5391, 0]'),\n",
              " Text(18.55704387990762, 151.0, 'X[2] <= 213.875\\ngini = 0.027\\nsamples = 73\\nvalue = [72, 1]'),\n",
              " Text(12.37136258660508, 138.92000000000002, 'gini = 0.0\\nsamples = 1\\nvalue = [0, 1]'),\n",
              " Text(24.74272517321016, 138.92000000000002, 'gini = 0.0\\nsamples = 72\\nvalue = [72, 0]'),\n",
              " Text(37.11408775981524, 163.07999999999998, 'X[1] <= 33.256\\ngini = 0.043\\nsamples = 46\\nvalue = [45, 1]'),\n",
              " Text(30.9284064665127, 151.0, 'gini = 0.0\\nsamples = 1\\nvalue = [0, 1]'),\n",
              " Text(43.299769053117785, 151.0, 'gini = 0.0\\nsamples = 45\\nvalue = [45, 0]'),\n",
              " Text(55.67113163972286, 175.16, 'X[5] <= 6.0\\ngini = 0.102\\nsamples = 111\\nvalue = [105, 6]'),\n",
              " Text(49.48545034642032, 163.07999999999998, 'gini = 0.0\\nsamples = 5\\nvalue = [0, 5]'),\n",
              " Text(61.8568129330254, 163.07999999999998, 'X[5] <= 8.5\\ngini = 0.019\\nsamples = 106\\nvalue = [105, 1]'),\n",
              " Text(55.67113163972286, 151.0, 'gini = 0.0\\nsamples = 105\\nvalue = [105, 0]'),\n",
              " Text(68.04249422632795, 151.0, 'gini = 0.0\\nsamples = 1\\nvalue = [0, 1]'),\n",
              " Text(52.57829099307159, 187.24, 'gini = 0.0\\nsamples = 2\\nvalue = [0, 2]'),\n",
              " Text(150.29272517321016, 199.32, 'X[3] <= 472.833\\ngini = 0.102\\nsamples = 1942\\nvalue = [105, 1837]'),\n",
              " Text(86.59953810623557, 187.24, 'X[8] <= 49.5\\ngini = 0.496\\nsamples = 22\\nvalue = [12, 10]'),\n",
              " Text(80.41385681293302, 175.16, 'X[3] <= 447.05\\ngini = 0.444\\nsamples = 18\\nvalue = [12, 6]'),\n",
              " Text(74.22817551963048, 163.07999999999998, 'gini = 0.0\\nsamples = 3\\nvalue = [0, 3]'),\n",
              " Text(86.59953810623557, 163.07999999999998, 'X[4] <= 0.003\\ngini = 0.32\\nsamples = 15\\nvalue = [12, 3]'),\n",
              " Text(80.41385681293302, 151.0, 'gini = 0.0\\nsamples = 11\\nvalue = [11, 0]'),\n",
              " Text(92.78521939953811, 151.0, 'X[6] <= 3.0\\ngini = 0.375\\nsamples = 4\\nvalue = [1, 3]'),\n",
              " Text(86.59953810623557, 138.92000000000002, 'gini = 0.0\\nsamples = 1\\nvalue = [1, 0]'),\n",
              " Text(98.97090069284064, 138.92000000000002, 'gini = 0.0\\nsamples = 3\\nvalue = [0, 3]'),\n",
              " Text(92.78521939953811, 175.16, 'gini = 0.0\\nsamples = 4\\nvalue = [0, 4]'),\n",
              " Text(213.98591224018475, 187.24, 'X[4] <= 0.005\\ngini = 0.092\\nsamples = 1920\\nvalue = [93, 1827]'),\n",
              " Text(173.58568129330254, 175.16, 'X[0] <= 22.264\\ngini = 0.147\\nsamples = 1155\\nvalue = [92, 1063]'),\n",
              " Text(111.34226327944572, 163.07999999999998, 'X[0] <= 19.55\\ngini = 0.064\\nsamples = 877\\nvalue = [29, 848]'),\n",
              " Text(105.15658198614318, 151.0, 'gini = 0.0\\nsamples = 2\\nvalue = [2, 0]'),\n",
              " Text(117.52794457274827, 151.0, 'X[2] <= 602.125\\ngini = 0.06\\nsamples = 875\\nvalue = [27, 848]'),\n",
              " Text(111.34226327944572, 138.92000000000002, 'X[3] <= 816.25\\ngini = 0.058\\nsamples = 874\\nvalue = [26, 848]'),\n",
              " Text(85.82632794457274, 126.84, 'X[0] <= 22.223\\ngini = 0.102\\nsamples = 443\\nvalue = [24, 419]'),\n",
              " Text(79.6406466512702, 114.75999999999999, 'X[3] <= 815.875\\ngini = 0.099\\nsamples = 442\\nvalue = [23, 419]'),\n",
              " Text(73.45496535796767, 102.67999999999999, 'X[8] <= 31.5\\ngini = 0.095\\nsamples = 441\\nvalue = [22, 419]'),\n",
              " Text(34.79445727482679, 90.6, 'X[4] <= 0.004\\ngini = 0.018\\nsamples = 221\\nvalue = [2, 219]'),\n",
              " Text(28.60877598152425, 78.52000000000001, 'gini = 0.0\\nsamples = 137\\nvalue = [0, 137]'),\n",
              " Text(40.98013856812933, 78.52000000000001, 'X[1] <= 23.945\\ngini = 0.046\\nsamples = 84\\nvalue = [2, 82]'),\n",
              " Text(28.60877598152425, 66.44, 'X[3] <= 650.75\\ngini = 0.5\\nsamples = 2\\nvalue = [1, 1]'),\n",
              " Text(22.42309468822171, 54.359999999999985, 'gini = 0.0\\nsamples = 1\\nvalue = [1, 0]'),\n",
              " Text(34.79445727482679, 54.359999999999985, 'gini = 0.0\\nsamples = 1\\nvalue = [0, 1]'),\n",
              " Text(53.35150115473441, 66.44, 'X[6] <= 2.0\\ngini = 0.024\\nsamples = 82\\nvalue = [1, 81]'),\n",
              " Text(47.16581986143187, 54.359999999999985, 'X[8] <= 10.5\\ngini = 0.105\\nsamples = 18\\nvalue = [1, 17]'),\n",
              " Text(40.98013856812933, 42.28, 'X[3] <= 746.167\\ngini = 0.278\\nsamples = 6\\nvalue = [1, 5]'),\n",
              " Text(34.79445727482679, 30.19999999999999, 'gini = 0.0\\nsamples = 5\\nvalue = [0, 5]'),\n",
              " Text(47.16581986143187, 30.19999999999999, 'gini = 0.0\\nsamples = 1\\nvalue = [1, 0]'),\n",
              " Text(53.35150115473441, 42.28, 'gini = 0.0\\nsamples = 12\\nvalue = [0, 12]'),\n",
              " Text(59.53718244803695, 54.359999999999985, 'gini = 0.0\\nsamples = 64\\nvalue = [0, 64]'),\n",
              " Text(112.11547344110855, 90.6, 'X[1] <= 25.268\\ngini = 0.165\\nsamples = 220\\nvalue = [20, 200]'),\n",
              " Text(96.65127020785219, 78.52000000000001, 'X[3] <= 804.125\\ngini = 0.11\\nsamples = 206\\nvalue = [12, 194]'),\n",
              " Text(84.2799076212471, 66.44, 'X[3] <= 653.5\\ngini = 0.088\\nsamples = 195\\nvalue = [9, 186]'),\n",
              " Text(78.09422632794457, 54.359999999999985, 'X[3] <= 648.75\\ngini = 0.195\\nsamples = 82\\nvalue = [9, 73]'),\n",
              " Text(71.90854503464203, 42.28, 'X[4] <= 0.004\\ngini = 0.14\\nsamples = 79\\nvalue = [6, 73]'),\n",
              " Text(59.53718244803695, 30.19999999999999, 'X[3] <= 646.5\\ngini = 0.029\\nsamples = 67\\nvalue = [1, 66]'),\n",
              " Text(53.35150115473441, 18.120000000000005, 'gini = 0.0\\nsamples = 64\\nvalue = [0, 64]'),\n",
              " Text(65.7228637413395, 18.120000000000005, 'X[0] <= 21.195\\ngini = 0.444\\nsamples = 3\\nvalue = [1, 2]'),\n",
              " Text(59.53718244803695, 6.039999999999992, 'gini = 0.0\\nsamples = 2\\nvalue = [0, 2]'),\n",
              " Text(71.90854503464203, 6.039999999999992, 'gini = 0.0\\nsamples = 1\\nvalue = [1, 0]'),\n",
              " Text(84.2799076212471, 30.19999999999999, 'X[8] <= 52.5\\ngini = 0.486\\nsamples = 12\\nvalue = [5, 7]'),\n",
              " Text(78.09422632794457, 18.120000000000005, 'gini = 0.0\\nsamples = 5\\nvalue = [5, 0]'),\n",
              " Text(90.46558891454966, 18.120000000000005, 'gini = 0.0\\nsamples = 7\\nvalue = [0, 7]'),\n",
              " Text(84.2799076212471, 42.28, 'gini = 0.0\\nsamples = 3\\nvalue = [3, 0]'),\n",
              " Text(90.46558891454966, 54.359999999999985, 'gini = 0.0\\nsamples = 113\\nvalue = [0, 113]'),\n",
              " Text(109.02263279445727, 66.44, 'X[8] <= 35.5\\ngini = 0.397\\nsamples = 11\\nvalue = [3, 8]'),\n",
              " Text(102.83695150115473, 54.359999999999985, 'X[0] <= 21.723\\ngini = 0.375\\nsamples = 4\\nvalue = [3, 1]'),\n",
              " Text(96.65127020785219, 42.28, 'gini = 0.0\\nsamples = 3\\nvalue = [3, 0]'),\n",
              " Text(109.02263279445727, 42.28, 'gini = 0.0\\nsamples = 1\\nvalue = [0, 1]'),\n",
              " Text(115.20831408775982, 54.359999999999985, 'gini = 0.0\\nsamples = 7\\nvalue = [0, 7]'),\n",
              " Text(127.57967667436489, 78.52000000000001, 'X[1] <= 26.506\\ngini = 0.49\\nsamples = 14\\nvalue = [8, 6]'),\n",
              " Text(121.39399538106235, 66.44, 'gini = 0.0\\nsamples = 8\\nvalue = [8, 0]'),\n",
              " Text(133.76535796766743, 66.44, 'gini = 0.0\\nsamples = 6\\nvalue = [0, 6]'),\n",
              " Text(85.82632794457274, 102.67999999999999, 'gini = 0.0\\nsamples = 1\\nvalue = [1, 0]'),\n",
              " Text(92.01200923787529, 114.75999999999999, 'gini = 0.0\\nsamples = 1\\nvalue = [1, 0]'),\n",
              " Text(136.8581986143187, 126.84, 'X[4] <= 0.005\\ngini = 0.009\\nsamples = 431\\nvalue = [2, 429]'),\n",
              " Text(124.48683602771362, 114.75999999999999, 'X[3] <= 1038.75\\ngini = 0.005\\nsamples = 424\\nvalue = [1, 423]'),\n",
              " Text(118.30115473441109, 102.67999999999999, 'gini = 0.0\\nsamples = 330\\nvalue = [0, 330]'),\n",
              " Text(130.67251732101616, 102.67999999999999, 'X[3] <= 1039.25\\ngini = 0.021\\nsamples = 94\\nvalue = [1, 93]'),\n",
              " Text(124.48683602771362, 90.6, 'gini = 0.0\\nsamples = 1\\nvalue = [1, 0]'),\n",
              " Text(136.8581986143187, 90.6, 'gini = 0.0\\nsamples = 93\\nvalue = [0, 93]'),\n",
              " Text(149.2295612009238, 114.75999999999999, 'X[4] <= 0.005\\ngini = 0.245\\nsamples = 7\\nvalue = [1, 6]'),\n",
              " Text(143.04387990762123, 102.67999999999999, 'gini = 0.0\\nsamples = 1\\nvalue = [1, 0]'),\n",
              " Text(155.41524249422633, 102.67999999999999, 'gini = 0.0\\nsamples = 6\\nvalue = [0, 6]'),\n",
              " Text(123.7136258660508, 138.92000000000002, 'gini = 0.0\\nsamples = 1\\nvalue = [1, 0]'),\n",
              " Text(235.82909930715934, 163.07999999999998, 'X[3] <= 853.967\\ngini = 0.351\\nsamples = 278\\nvalue = [63, 215]'),\n",
              " Text(195.62217090069282, 151.0, 'X[0] <= 22.545\\ngini = 0.481\\nsamples = 57\\nvalue = [34, 23]'),\n",
              " Text(180.15796766743648, 138.92000000000002, 'X[1] <= 24.988\\ngini = 0.343\\nsamples = 41\\nvalue = [32, 9]'),\n",
              " Text(167.7866050808314, 126.84, 'X[8] <= 35.0\\ngini = 0.498\\nsamples = 15\\nvalue = [7, 8]'),\n",
              " Text(161.60092378752887, 114.75999999999999, 'gini = 0.0\\nsamples = 6\\nvalue = [0, 6]'),\n",
              " Text(173.97228637413394, 114.75999999999999, 'X[8] <= 56.0\\ngini = 0.346\\nsamples = 9\\nvalue = [7, 2]'),\n",
              " Text(167.7866050808314, 102.67999999999999, 'gini = 0.0\\nsamples = 7\\nvalue = [7, 0]'),\n",
              " Text(180.15796766743648, 102.67999999999999, 'gini = 0.0\\nsamples = 2\\nvalue = [0, 2]'),\n",
              " Text(192.52933025404155, 126.84, 'X[8] <= 58.5\\ngini = 0.074\\nsamples = 26\\nvalue = [25, 1]'),\n",
              " Text(186.34364896073902, 114.75999999999999, 'gini = 0.0\\nsamples = 25\\nvalue = [25, 0]'),\n",
              " Text(198.71501154734412, 114.75999999999999, 'gini = 0.0\\nsamples = 1\\nvalue = [0, 1]'),\n",
              " Text(211.0863741339492, 138.92000000000002, 'X[3] <= 848.367\\ngini = 0.219\\nsamples = 16\\nvalue = [2, 14]'),\n",
              " Text(204.90069284064666, 126.84, 'gini = 0.0\\nsamples = 13\\nvalue = [0, 13]'),\n",
              " Text(217.27205542725173, 126.84, 'X[8] <= 32.5\\ngini = 0.444\\nsamples = 3\\nvalue = [2, 1]'),\n",
              " Text(211.0863741339492, 114.75999999999999, 'gini = 0.0\\nsamples = 1\\nvalue = [0, 1]'),\n",
              " Text(223.45773672055427, 114.75999999999999, 'gini = 0.0\\nsamples = 2\\nvalue = [2, 0]'),\n",
              " Text(276.03602771362586, 151.0, 'X[7] <= 13.5\\ngini = 0.228\\nsamples = 221\\nvalue = [29, 192]'),\n",
              " Text(269.8503464203233, 138.92000000000002, 'X[2] <= 535.958\\ngini = 0.33\\nsamples = 139\\nvalue = [29, 110]'),\n",
              " Text(242.01478060046188, 126.84, 'X[8] <= 31.5\\ngini = 0.32\\nsamples = 15\\nvalue = [12, 3]'),\n",
              " Text(235.82909930715934, 114.75999999999999, 'gini = 0.0\\nsamples = 2\\nvalue = [0, 2]'),\n",
              " Text(248.20046189376444, 114.75999999999999, 'X[8] <= 42.5\\ngini = 0.142\\nsamples = 13\\nvalue = [12, 1]'),\n",
              " Text(242.01478060046188, 102.67999999999999, 'gini = 0.0\\nsamples = 10\\nvalue = [10, 0]'),\n",
              " Text(254.38614318706698, 102.67999999999999, 'X[7] <= 12.5\\ngini = 0.444\\nsamples = 3\\nvalue = [2, 1]'),\n",
              " Text(248.20046189376444, 90.6, 'gini = 0.0\\nsamples = 1\\nvalue = [0, 1]'),\n",
              " Text(260.5718244803695, 90.6, 'gini = 0.0\\nsamples = 2\\nvalue = [2, 0]'),\n",
              " Text(297.68591224018473, 126.84, 'X[6] <= 5.0\\ngini = 0.237\\nsamples = 124\\nvalue = [17, 107]'),\n",
              " Text(285.31454965357966, 114.75999999999999, 'X[2] <= 639.667\\ngini = 0.135\\nsamples = 96\\nvalue = [7, 89]'),\n",
              " Text(279.1288683602771, 102.67999999999999, 'X[2] <= 633.25\\ngini = 0.249\\nsamples = 48\\nvalue = [7, 41]'),\n",
              " Text(272.9431870669746, 90.6, 'X[1] <= 25.791\\ngini = 0.194\\nsamples = 46\\nvalue = [5, 41]'),\n",
              " Text(266.75750577367205, 78.52000000000001, 'gini = 0.0\\nsamples = 19\\nvalue = [0, 19]'),\n",
              " Text(279.1288683602771, 78.52000000000001, 'X[8] <= 18.0\\ngini = 0.302\\nsamples = 27\\nvalue = [5, 22]'),\n",
              " Text(272.9431870669746, 66.44, 'gini = 0.0\\nsamples = 13\\nvalue = [0, 13]'),\n",
              " Text(285.31454965357966, 66.44, 'X[3] <= 1050.05\\ngini = 0.459\\nsamples = 14\\nvalue = [5, 9]'),\n",
              " Text(279.1288683602771, 54.359999999999985, 'X[7] <= 12.5\\ngini = 0.298\\nsamples = 11\\nvalue = [2, 9]'),\n",
              " Text(272.9431870669746, 42.28, 'X[0] <= 22.307\\ngini = 0.18\\nsamples = 10\\nvalue = [1, 9]'),\n",
              " Text(266.75750577367205, 30.19999999999999, 'X[3] <= 947.0\\ngini = 0.444\\nsamples = 3\\nvalue = [1, 2]'),\n",
              " Text(260.5718244803695, 18.120000000000005, 'gini = 0.0\\nsamples = 2\\nvalue = [0, 2]'),\n",
              " Text(272.9431870669746, 18.120000000000005, 'gini = 0.0\\nsamples = 1\\nvalue = [1, 0]'),\n",
              " Text(279.1288683602771, 30.19999999999999, 'gini = 0.0\\nsamples = 7\\nvalue = [0, 7]'),\n",
              " Text(285.31454965357966, 42.28, 'gini = 0.0\\nsamples = 1\\nvalue = [1, 0]'),\n",
              " Text(291.5002309468822, 54.359999999999985, 'gini = 0.0\\nsamples = 3\\nvalue = [3, 0]'),\n",
              " Text(285.31454965357966, 90.6, 'gini = 0.0\\nsamples = 2\\nvalue = [2, 0]'),\n",
              " Text(291.5002309468822, 102.67999999999999, 'gini = 0.0\\nsamples = 48\\nvalue = [0, 48]'),\n",
              " Text(310.0572748267898, 114.75999999999999, 'X[3] <= 1025.875\\ngini = 0.459\\nsamples = 28\\nvalue = [10, 18]'),\n",
              " Text(303.87159353348727, 102.67999999999999, 'gini = 0.0\\nsamples = 7\\nvalue = [7, 0]'),\n",
              " Text(316.24295612009234, 102.67999999999999, 'X[4] <= 0.005\\ngini = 0.245\\nsamples = 21\\nvalue = [3, 18]'),\n",
              " Text(310.0572748267898, 90.6, 'gini = 0.0\\nsamples = 17\\nvalue = [0, 17]'),\n",
              " Text(322.42863741339494, 90.6, 'X[8] <= 30.0\\ngini = 0.375\\nsamples = 4\\nvalue = [3, 1]'),\n",
              " Text(316.24295612009234, 78.52000000000001, 'gini = 0.0\\nsamples = 1\\nvalue = [0, 1]'),\n",
              " Text(328.6143187066975, 78.52000000000001, 'gini = 0.0\\nsamples = 3\\nvalue = [3, 0]'),\n",
              " Text(282.2217090069284, 138.92000000000002, 'gini = 0.0\\nsamples = 82\\nvalue = [0, 82]'),\n",
              " Text(254.38614318706698, 175.16, 'X[0] <= 20.361\\ngini = 0.003\\nsamples = 765\\nvalue = [1, 764]'),\n",
              " Text(248.20046189376444, 163.07999999999998, 'gini = 0.0\\nsamples = 1\\nvalue = [1, 0]'),\n",
              " Text(260.5718244803695, 163.07999999999998, 'gini = 0.0\\nsamples = 764\\nvalue = [0, 764]')]"
            ]
          },
          "metadata": {},
          "execution_count": 76
        },
        {
          "output_type": "display_data",
          "data": {
            "image/png": "[encoded data removed]",
            "text/plain": [
              "<Figure size 432x288 with 1 Axes>"
            ]
          },
          "metadata": {
            "needs_background": "light"
          }
        }
      ]
    },
    {
      "cell_type": "code",
      "source": [
        "#Model has learnt unneccesaary things \n",
        "#Need to optimize\n",
        "\n",
        "from sklearn.metrics import accuracy_score"
      ],
      "metadata": {
        "id": "TWEzTJLwocjT"
      },
      "execution_count": null,
      "outputs": []
    },
    {
      "cell_type": "code",
      "source": [
        "print(round(accuracy_score(y_train,y_pred_train), 2))"
      ],
      "metadata": {
        "colab": {
          "base_uri": "https://localhost:8080/"
        },
        "id": "8E7wiG8hohDK",
        "outputId": "4e574ff1-b694-4a15-d347-9887deab99a7"
      },
      "execution_count": null,
      "outputs": [
        {
          "output_type": "stream",
          "name": "stdout",
          "text": [
            "1.0\n"
          ]
        }
      ]
    },
    {
      "cell_type": "code",
      "source": [
        "print(round(accuracy_score(y_test,y_pred_test), 2))"
      ],
      "metadata": {
        "colab": {
          "base_uri": "https://localhost:8080/"
        },
        "id": "Qh9xL7BOojac",
        "outputId": "1036f28a-988a-4788-e03e-4747bdc806f4"
      },
      "execution_count": null,
      "outputs": [
        {
          "output_type": "stream",
          "name": "stdout",
          "text": [
            "0.99\n"
          ]
        }
      ]
    },
    {
      "cell_type": "code",
      "source": [
        "# Accuracy of train data is 1.0\n",
        "# Accuracy of test data is 0.99"
      ],
      "metadata": {
        "id": "ugOtqHfqopNg"
      },
      "execution_count": null,
      "outputs": []
    },
    {
      "cell_type": "code",
      "source": [
        "from sklearn import tree"
      ],
      "metadata": {
        "id": "QFUMzyvuouIg"
      },
      "execution_count": null,
      "outputs": []
    },
    {
      "cell_type": "code",
      "source": [
        "path = clf.cost_complexity_pruning_path(X_train, y_train)"
      ],
      "metadata": {
        "id": "LwcfkJ-Dov6e"
      },
      "execution_count": null,
      "outputs": []
    },
    {
      "cell_type": "code",
      "source": [
        "path"
      ],
      "metadata": {
        "colab": {
          "base_uri": "https://localhost:8080/"
        },
        "id": "d-Ejn2ugoxx4",
        "outputId": "135e00f7-4c6d-41f8-d367-85b7f0c038de"
      },
      "execution_count": null,
      "outputs": [
        {
          "output_type": "execute_result",
          "data": {
            "text/plain": [
              "{'ccp_alphas': array([0.00000000e+00, 8.70504409e-05, 8.76048094e-05, 1.18968936e-04,\n",
              "        1.22019421e-04, 1.30214756e-04, 1.31574307e-04, 1.32139726e-04,\n",
              "        1.76250275e-04, 1.94676441e-04, 1.98281560e-04, 1.98281560e-04,\n",
              "        1.98281560e-04, 2.48526821e-04, 2.54207128e-04, 2.61881305e-04,\n",
              "        2.64029824e-04, 2.68745749e-04, 2.86406698e-04, 3.78537523e-04,\n",
              "        3.90462149e-04, 4.11250643e-04, 4.14588716e-04, 4.19196841e-04,\n",
              "        4.81540931e-04, 4.95490255e-04, 5.75750900e-04, 6.15867402e-04,\n",
              "        6.16204081e-04, 7.41353990e-04, 1.07405358e-03, 1.30731210e-03,\n",
              "        1.71280287e-03, 3.40184690e-01]),\n",
              " 'impurities': array([0.00000000e+00, 2.61151323e-04, 5.23965751e-04, 7.61903623e-04,\n",
              "        1.00594247e-03, 1.26637198e-03, 1.79266920e-03, 2.32122810e-03,\n",
              "        2.49747838e-03, 2.69215482e-03, 2.89043638e-03, 3.08871794e-03,\n",
              "        3.28699950e-03, 4.03257996e-03, 4.28678709e-03, 4.54866840e-03,\n",
              "        4.81269822e-03, 5.35018972e-03, 5.63659642e-03, 6.01513394e-03,\n",
              "        6.40559609e-03, 6.81684673e-03, 8.06061288e-03, 1.30909750e-02,\n",
              "        1.35725159e-02, 1.40680062e-02, 1.46437571e-02, 1.52596245e-02,\n",
              "        1.71082367e-02, 1.85909447e-02, 2.07390518e-02, 2.20463639e-02,\n",
              "        2.88975754e-02, 3.69082265e-01])}"
            ]
          },
          "metadata": {},
          "execution_count": 82
        }
      ]
    },
    {
      "cell_type": "code",
      "source": [
        "alphas = path['ccp_alphas']"
      ],
      "metadata": {
        "id": "1e2iben_o0tr"
      },
      "execution_count": null,
      "outputs": []
    },
    {
      "cell_type": "code",
      "source": [
        "alphas"
      ],
      "metadata": {
        "colab": {
          "base_uri": "https://localhost:8080/"
        },
        "id": "TVxQKhy3o3Ri",
        "outputId": "6773e66b-9910-46b5-d2a7-ccb5d6a5e7f5"
      },
      "execution_count": null,
      "outputs": [
        {
          "output_type": "execute_result",
          "data": {
            "text/plain": [
              "array([0.00000000e+00, 8.70504409e-05, 8.76048094e-05, 1.18968936e-04,\n",
              "       1.22019421e-04, 1.30214756e-04, 1.31574307e-04, 1.32139726e-04,\n",
              "       1.76250275e-04, 1.94676441e-04, 1.98281560e-04, 1.98281560e-04,\n",
              "       1.98281560e-04, 2.48526821e-04, 2.54207128e-04, 2.61881305e-04,\n",
              "       2.64029824e-04, 2.68745749e-04, 2.86406698e-04, 3.78537523e-04,\n",
              "       3.90462149e-04, 4.11250643e-04, 4.14588716e-04, 4.19196841e-04,\n",
              "       4.81540931e-04, 4.95490255e-04, 5.75750900e-04, 6.15867402e-04,\n",
              "       6.16204081e-04, 7.41353990e-04, 1.07405358e-03, 1.30731210e-03,\n",
              "       1.71280287e-03, 3.40184690e-01])"
            ]
          },
          "metadata": {},
          "execution_count": 84
        }
      ]
    },
    {
      "cell_type": "code",
      "source": [
        "acrcy_train, acrcy_test = [],[]\n",
        "\n",
        "for i in alphas:\n",
        "    clf = DecisionTreeClassifier(ccp_alpha=i)    \n",
        "    \n",
        "    clf.fit(X_train, y_train)\n",
        "    y_pred_train = clf.predict(X_train)\n",
        "    y_pred_test = clf.predict(X_test)\n",
        "    \n",
        "    acrcy_train.append(accuracy_score(y_train, y_pred_train))\n",
        "    acrcy_test.append(accuracy_score(y_test,y_pred_test))"
      ],
      "metadata": {
        "id": "kgH5yTW5o5Lv"
      },
      "execution_count": null,
      "outputs": []
    },
    {
      "cell_type": "code",
      "source": [
        "acrcy_train"
      ],
      "metadata": {
        "colab": {
          "base_uri": "https://localhost:8080/"
        },
        "id": "BwFJSVvEo7s_",
        "outputId": "c1be8b1a-d59b-4e9a-805d-2f855b302cfc"
      },
      "execution_count": null,
      "outputs": [
        {
          "output_type": "execute_result",
          "data": {
            "text/plain": [
              "[1.0,\n",
              " 0.9998678122934567,\n",
              " 0.9997356245869135,\n",
              " 0.9996034368803701,\n",
              " 0.9994712491738268,\n",
              " 0.9993390614672836,\n",
              " 0.9990746860541969,\n",
              " 0.9988103106411104,\n",
              " 0.998678122934567,\n",
              " 0.9985459352280238,\n",
              " 0.9981493721083939,\n",
              " 0.9981493721083939,\n",
              " 0.9981493721083939,\n",
              " 0.9977528089887641,\n",
              " 0.9976206212822207,\n",
              " 0.9974884335756775,\n",
              " 0.9973562458691342,\n",
              " 0.9970918704560476,\n",
              " 0.9969596827495043,\n",
              " 0.9966953073364178,\n",
              " 0.9964309319233311,\n",
              " 0.9961665565102445,\n",
              " 0.9949768671513549,\n",
              " 0.9924653007270324,\n",
              " 0.9922009253139458,\n",
              " 0.9919365499008592,\n",
              " 0.9912756113681428,\n",
              " 0.9911434236615995,\n",
              " 0.9902181097157964,\n",
              " 0.9892927957699934,\n",
              " 0.9881031064111038,\n",
              " 0.9865168539325843,\n",
              " 0.9847984137475215,\n",
              " 0.7558493060145407]"
            ]
          },
          "metadata": {},
          "execution_count": 86
        }
      ]
    },
    {
      "cell_type": "code",
      "source": [
        "acrcy_test"
      ],
      "metadata": {
        "colab": {
          "base_uri": "https://localhost:8080/"
        },
        "id": "Ve2JzYLTo-Th",
        "outputId": "d759fb84-8b84-4dbc-a1b7-6e393a63c0d4"
      },
      "execution_count": null,
      "outputs": [
        {
          "output_type": "execute_result",
          "data": {
            "text/plain": [
              "[0.9919827320382362,\n",
              " 0.9910576626580326,\n",
              " 0.9913660191181005,\n",
              " 0.9907493061979649,\n",
              " 0.9913660191181005,\n",
              " 0.9907493061979649,\n",
              " 0.9916743755781684,\n",
              " 0.992291088498304,\n",
              " 0.992291088498304,\n",
              " 0.9919827320382362,\n",
              " 0.9919827320382362,\n",
              " 0.9916743755781684,\n",
              " 0.9919827320382362,\n",
              " 0.9916743755781684,\n",
              " 0.9913660191181005,\n",
              " 0.9913660191181005,\n",
              " 0.9910576626580326,\n",
              " 0.9910576626580326,\n",
              " 0.9910576626580326,\n",
              " 0.9910576626580326,\n",
              " 0.9901325932778292,\n",
              " 0.9901325932778292,\n",
              " 0.9898242368177613,\n",
              " 0.990440949737897,\n",
              " 0.9898242368177613,\n",
              " 0.9907493061979649,\n",
              " 0.9892075238976257,\n",
              " 0.9892075238976257,\n",
              " 0.9892075238976257,\n",
              " 0.9879740980573543,\n",
              " 0.9876657415972865,\n",
              " 0.9845821769966081,\n",
              " 0.9873573851372186,\n",
              " 0.736663583102066]"
            ]
          },
          "metadata": {},
          "execution_count": 87
        }
      ]
    },
    {
      "cell_type": "code",
      "source": [
        "# now we have scores\n",
        "# lets, plot\n",
        "\n",
        "sns.set()\n",
        "plt.figure(figsize = (14,7))\n",
        "sns.lineplot(y =acrcy_train, x = alphas, label = 'Train_Accuracy')\n",
        "sns.lineplot(y =acrcy_test, x = alphas, label = 'Test_Accuracy')\n",
        "plt.xticks(ticks=np.arange(0.00,0.2,0.01))\n",
        "plt.xlabel('alphas')\n",
        "plt.ylabel('accuracy')\n",
        "plt.show()"
      ],
      "metadata": {
        "colab": {
          "base_uri": "https://localhost:8080/",
          "height": 448
        },
        "id": "iuJl_MtVpBYg",
        "outputId": "33e7a663-1551-4ec0-df39-9d0f23403834"
      },
      "execution_count": null,
      "outputs": [
        {
          "output_type": "display_data",
          "data": {
            "image/png": "[encoded data removed]",
            "text/plain": [
              "<Figure size 1008x504 with 1 Axes>"
            ]
          },
          "metadata": {}
        }
      ]
    },
    {
      "cell_type": "code",
      "source": [
        "#_________with ccp = 0.04\n",
        "clf = DecisionTreeClassifier(ccp_alpha=0.04, random_state = 14)"
      ],
      "metadata": {
        "id": "Sau9VSf3pED0"
      },
      "execution_count": null,
      "outputs": []
    },
    {
      "cell_type": "code",
      "source": [
        "clf.fit(X_train,y_train)"
      ],
      "metadata": {
        "colab": {
          "base_uri": "https://localhost:8080/"
        },
        "id": "TgQ3sNZJsXgO",
        "outputId": "1563568d-84bc-4e5b-ada3-32d129fefe6c"
      },
      "execution_count": null,
      "outputs": [
        {
          "output_type": "execute_result",
          "data": {
            "text/plain": [
              "DecisionTreeClassifier(ccp_alpha=0.04, random_state=14)"
            ]
          },
          "metadata": {},
          "execution_count": 111
        }
      ]
    },
    {
      "cell_type": "code",
      "source": [
        "y_pred_train = clf.predict(X_train)"
      ],
      "metadata": {
        "id": "CiDXewjUsbBF"
      },
      "execution_count": null,
      "outputs": []
    },
    {
      "cell_type": "code",
      "source": [
        "y_pred_test = clf.predict(X_test)"
      ],
      "metadata": {
        "id": "ojiGh2SysdNf"
      },
      "execution_count": null,
      "outputs": []
    },
    {
      "cell_type": "code",
      "source": [
        "from sklearn.metrics import accuracy_score\n",
        "print(round(accuracy_score(y_train,y_pred_train), 2))"
      ],
      "metadata": {
        "colab": {
          "base_uri": "https://localhost:8080/"
        },
        "id": "DbeQoxK5sfZd",
        "outputId": "06032702-fa62-4db7-9d7d-2b13d05a9637"
      },
      "execution_count": null,
      "outputs": [
        {
          "output_type": "stream",
          "name": "stdout",
          "text": [
            "0.98\n"
          ]
        }
      ]
    },
    {
      "cell_type": "code",
      "source": [
        "print(round(accuracy_score(y_test,y_pred_test), 2))"
      ],
      "metadata": {
        "colab": {
          "base_uri": "https://localhost:8080/"
        },
        "id": "Dww8j0Gpshij",
        "outputId": "00eb8c97-947b-43de-b348-672d84ba35ad"
      },
      "execution_count": null,
      "outputs": [
        {
          "output_type": "stream",
          "name": "stdout",
          "text": [
            "0.99\n"
          ]
        }
      ]
    },
    {
      "cell_type": "code",
      "source": [
        "### Confusion Matrix\n",
        "from sklearn.metrics import confusion_matrix\n",
        "from sklearn.metrics import classification_report"
      ],
      "metadata": {
        "id": "AoIDCblgsk4N"
      },
      "execution_count": null,
      "outputs": []
    },
    {
      "cell_type": "code",
      "source": [
        "confusion_matrix = confusion_matrix(y_test, y_pred_test)\n",
        "print(confusion_matrix)"
      ],
      "metadata": {
        "colab": {
          "base_uri": "https://localhost:8080/"
        },
        "id": "n_R75i1psnDh",
        "outputId": "a719b839-5850-48dd-f86c-690166b2850c"
      },
      "execution_count": null,
      "outputs": [
        {
          "output_type": "stream",
          "name": "stdout",
          "text": [
            "[[2350   39]\n",
            " [   2  852]]\n"
          ]
        }
      ]
    },
    {
      "cell_type": "code",
      "source": [
        "### Classification Report\n",
        "from sklearn.metrics import classification_report"
      ],
      "metadata": {
        "id": "iVuAAZwNsoxA"
      },
      "execution_count": null,
      "outputs": []
    },
    {
      "cell_type": "code",
      "source": [
        "print(classification_report(y_test, y_pred_test))"
      ],
      "metadata": {
        "colab": {
          "base_uri": "https://localhost:8080/"
        },
        "id": "BtLtKKq3sqk_",
        "outputId": "c613246b-56f2-4d45-8a96-ecf3f712fd1a"
      },
      "execution_count": null,
      "outputs": [
        {
          "output_type": "stream",
          "name": "stdout",
          "text": [
            "              precision    recall  f1-score   support\n",
            "\n",
            "           0       1.00      0.98      0.99      2389\n",
            "           1       0.96      1.00      0.98       854\n",
            "\n",
            "    accuracy                           0.99      3243\n",
            "   macro avg       0.98      0.99      0.98      3243\n",
            "weighted avg       0.99      0.99      0.99      3243\n",
            "\n"
          ]
        }
      ]
    },
    {
      "cell_type": "code",
      "source": [
        "###########################  ROC AUC Curve \n",
        "\n",
        "from sklearn.metrics import roc_auc_score\n",
        "from sklearn.metrics import roc_curve\n",
        "from sklearn.metrics import roc_curve, auc, roc_auc_score"
      ],
      "metadata": {
        "id": "d3IWOX1pssZw"
      },
      "execution_count": null,
      "outputs": []
    },
    {
      "cell_type": "code",
      "source": [
        "predictedProbability = clf.predict_proba(X_test)[:, 1]\n",
        "fpr,tpr, thresholds = metrics.roc_curve(y_test, predictedProbability)"
      ],
      "metadata": {
        "id": "t2cRezArswPJ"
      },
      "execution_count": null,
      "outputs": []
    },
    {
      "cell_type": "code",
      "source": [
        "fpr"
      ],
      "metadata": {
        "colab": {
          "base_uri": "https://localhost:8080/"
        },
        "id": "X2CU2j4is0K9",
        "outputId": "cd1ffe99-d178-46f5-fafd-696363151376"
      },
      "execution_count": null,
      "outputs": [
        {
          "output_type": "execute_result",
          "data": {
            "text/plain": [
              "array([0.        , 0.01632482, 1.        ])"
            ]
          },
          "metadata": {},
          "execution_count": 122
        }
      ]
    },
    {
      "cell_type": "code",
      "source": [
        "tpr"
      ],
      "metadata": {
        "colab": {
          "base_uri": "https://localhost:8080/"
        },
        "id": "2sYqz8HBtNR0",
        "outputId": "f484ce94-b5c2-4d1b-de2d-886f051b908d"
      },
      "execution_count": null,
      "outputs": [
        {
          "output_type": "execute_result",
          "data": {
            "text/plain": [
              "array([0.        , 0.99765808, 1.        ])"
            ]
          },
          "metadata": {},
          "execution_count": 123
        }
      ]
    },
    {
      "cell_type": "code",
      "source": [
        "thresholds"
      ],
      "metadata": {
        "colab": {
          "base_uri": "https://localhost:8080/"
        },
        "id": "zecFJda7tPCG",
        "outputId": "a08c9fd0-f561-4af7-d9a3-1dc8574d31f3"
      },
      "execution_count": null,
      "outputs": [
        {
          "output_type": "execute_result",
          "data": {
            "text/plain": [
              "array([1.94593203e+00, 9.45932029e-01, 1.77841010e-03])"
            ]
          },
          "metadata": {},
          "execution_count": 124
        }
      ]
    },
    {
      "cell_type": "code",
      "source": [
        "dff = pd.DataFrame(dict(fpr = fpr,tpr = tpr))\n",
        "auc = auc(fpr,tpr)\n",
        "auc"
      ],
      "metadata": {
        "colab": {
          "base_uri": "https://localhost:8080/"
        },
        "id": "yDsJrCHStQ-J",
        "outputId": "b6ab10b6-863d-4fcf-ad08-689d2e41e206"
      },
      "execution_count": null,
      "outputs": [
        {
          "output_type": "execute_result",
          "data": {
            "text/plain": [
              "0.9906666287619976"
            ]
          },
          "metadata": {},
          "execution_count": 125
        }
      ]
    },
    {
      "cell_type": "code",
      "source": [
        "plt.figure()\n",
        "lw = 2\n",
        "plt.plot(fpr, tpr, color = 'darkorange',\n",
        "         lw =lw, label = 'ROC Curve (area = %0.2f)' %auc)\n",
        "plt.plot([0,1],[0,1], color='navy', lw = lw, linestyle = '--')\n",
        "plt.xlim([-0.1, 1.0])\n",
        "plt.ylim([0.0, 1.1])\n",
        "plt.xlabel('1-Specificity(False Positive Rate)')\n",
        "plt.ylabel('Sensitivity(True Positive Rate)')\n",
        "plt.title(\"ROC - AUC for Decision Tree Model\")\n",
        "plt.legend(loc = \"lower right\")\n",
        "plt.show()"
      ],
      "metadata": {
        "colab": {
          "base_uri": "https://localhost:8080/",
          "height": 301
        },
        "id": "5V8PLUUGtSmc",
        "outputId": "e7468bdb-b2e1-4224-a245-56e002c2a7c7"
      },
      "execution_count": null,
      "outputs": [
        {
          "output_type": "display_data",
          "data": {
            "image/png": "[encoded data removed]",
            "text/plain": [
              "<Figure size 432x288 with 1 Axes>"
            ]
          },
          "metadata": {}
        }
      ]
    },
    {
      "cell_type": "markdown",
      "source": [
        "**# RANDOM FOREST**"
      ],
      "metadata": {
        "id": "d3AscX4JtXSD"
      }
    },
    {
      "cell_type": "code",
      "source": [
        "df.info()"
      ],
      "metadata": {
        "colab": {
          "base_uri": "https://localhost:8080/"
        },
        "id": "gyllgHSxtUmR",
        "outputId": "7b9cb83c-9d49-4c7e-e4c3-4acc13401c23"
      },
      "execution_count": null,
      "outputs": [
        {
          "output_type": "stream",
          "name": "stdout",
          "text": [
            "<class 'pandas.core.frame.DataFrame'>\n",
            "RangeIndex: 10808 entries, 0 to 10807\n",
            "Data columns (total 10 columns):\n",
            " #   Column         Non-Null Count  Dtype  \n",
            "---  ------         --------------  -----  \n",
            " 0   Temperature    10808 non-null  float64\n",
            " 1   Humidity       10808 non-null  float64\n",
            " 2   Light          10808 non-null  float64\n",
            " 3   CO2            10808 non-null  float64\n",
            " 4   HumidityRatio  10808 non-null  float64\n",
            " 5   Occupancy      10808 non-null  int64  \n",
            " 6   month          10808 non-null  int64  \n",
            " 7   day            10808 non-null  int64  \n",
            " 8   hour           10808 non-null  int64  \n",
            " 9   minute         10808 non-null  int64  \n",
            "dtypes: float64(5), int64(5)\n",
            "memory usage: 844.5 KB\n"
          ]
        }
      ]
    },
    {
      "cell_type": "code",
      "source": [
        "X_train_os = train_os.loc[:, train_os.columns != 'Occupancy']\n",
        "y_train_os = train_os.loc[:, train_os.columns == 'Occupancy']"
      ],
      "metadata": {
        "id": "VyB69oKstcV0"
      },
      "execution_count": null,
      "outputs": []
    },
    {
      "cell_type": "code",
      "source": [
        "X.info()"
      ],
      "metadata": {
        "colab": {
          "base_uri": "https://localhost:8080/"
        },
        "id": "Razr_famtoUh",
        "outputId": "206378c0-7936-44ee-d566-a1e394b25ac1"
      },
      "execution_count": null,
      "outputs": [
        {
          "output_type": "stream",
          "name": "stdout",
          "text": [
            "<class 'pandas.core.frame.DataFrame'>\n",
            "RangeIndex: 10808 entries, 0 to 10807\n",
            "Data columns (total 9 columns):\n",
            " #   Column         Non-Null Count  Dtype  \n",
            "---  ------         --------------  -----  \n",
            " 0   Temperature    10808 non-null  float64\n",
            " 1   Humidity       10808 non-null  float64\n",
            " 2   Light          10808 non-null  float64\n",
            " 3   CO2            10808 non-null  float64\n",
            " 4   HumidityRatio  10808 non-null  float64\n",
            " 5   month          10808 non-null  int64  \n",
            " 6   day            10808 non-null  int64  \n",
            " 7   hour           10808 non-null  int64  \n",
            " 8   minute         10808 non-null  int64  \n",
            "dtypes: float64(5), int64(4)\n",
            "memory usage: 760.1 KB\n"
          ]
        }
      ]
    },
    {
      "cell_type": "code",
      "source": [
        "y"
      ],
      "metadata": {
        "colab": {
          "base_uri": "https://localhost:8080/",
          "height": 423
        },
        "id": "XYfGzO3Etroy",
        "outputId": "f00ea193-f7dd-4e92-90c6-11b8de3eca29"
      },
      "execution_count": null,
      "outputs": [
        {
          "output_type": "execute_result",
          "data": {
            "text/html": [
              "<div>\n",
              "<style scoped>\n",
              "    .dataframe tbody tr th:only-of-type {\n",
              "        vertical-align: middle;\n",
              "    }\n",
              "\n",
              "    .dataframe tbody tr th {\n",
              "        vertical-align: top;\n",
              "    }\n",
              "\n",
              "    .dataframe thead th {\n",
              "        text-align: right;\n",
              "    }\n",
              "</style>\n",
              "<table border=\"1\" class=\"dataframe\">\n",
              "  <thead>\n",
              "    <tr style=\"text-align: right;\">\n",
              "      <th></th>\n",
              "      <th>Occupancy</th>\n",
              "    </tr>\n",
              "  </thead>\n",
              "  <tbody>\n",
              "    <tr>\n",
              "      <th>0</th>\n",
              "      <td>1</td>\n",
              "    </tr>\n",
              "    <tr>\n",
              "      <th>1</th>\n",
              "      <td>1</td>\n",
              "    </tr>\n",
              "    <tr>\n",
              "      <th>2</th>\n",
              "      <td>1</td>\n",
              "    </tr>\n",
              "    <tr>\n",
              "      <th>3</th>\n",
              "      <td>1</td>\n",
              "    </tr>\n",
              "    <tr>\n",
              "      <th>4</th>\n",
              "      <td>1</td>\n",
              "    </tr>\n",
              "    <tr>\n",
              "      <th>...</th>\n",
              "      <td>...</td>\n",
              "    </tr>\n",
              "    <tr>\n",
              "      <th>10803</th>\n",
              "      <td>1</td>\n",
              "    </tr>\n",
              "    <tr>\n",
              "      <th>10804</th>\n",
              "      <td>1</td>\n",
              "    </tr>\n",
              "    <tr>\n",
              "      <th>10805</th>\n",
              "      <td>1</td>\n",
              "    </tr>\n",
              "    <tr>\n",
              "      <th>10806</th>\n",
              "      <td>1</td>\n",
              "    </tr>\n",
              "    <tr>\n",
              "      <th>10807</th>\n",
              "      <td>1</td>\n",
              "    </tr>\n",
              "  </tbody>\n",
              "</table>\n",
              "<p>10808 rows × 1 columns</p>\n",
              "</div>"
            ],
            "text/plain": [
              "       Occupancy\n",
              "0              1\n",
              "1              1\n",
              "2              1\n",
              "3              1\n",
              "4              1\n",
              "...          ...\n",
              "10803          1\n",
              "10804          1\n",
              "10805          1\n",
              "10806          1\n",
              "10807          1\n",
              "\n",
              "[10808 rows x 1 columns]"
            ]
          },
          "metadata": {},
          "execution_count": 130
        }
      ]
    },
    {
      "cell_type": "code",
      "source": [
        "'''Fit Tree'''\n",
        "#train test - split \n",
        "\n",
        "from sklearn.model_selection import train_test_split"
      ],
      "metadata": {
        "id": "0v0oz62MtuRi"
      },
      "execution_count": null,
      "outputs": []
    },
    {
      "cell_type": "code",
      "source": [
        "X_train, X_test, y_train, y_test = train_test_split(X, y, test_size=0.3, random_state=0)"
      ],
      "metadata": {
        "id": "vCSvn_x6twSw"
      },
      "execution_count": null,
      "outputs": []
    },
    {
      "cell_type": "code",
      "source": [
        "#import the classifier\n",
        "from sklearn.ensemble import RandomForestClassifier"
      ],
      "metadata": {
        "id": "NY7oBF3ht3JI"
      },
      "execution_count": null,
      "outputs": []
    },
    {
      "cell_type": "code",
      "source": [
        "#Create Classifier object \n",
        "#in our previous experiment, we found ccp_alphas = 0.04 has the best accuarcy \n",
        "clf_rf = RandomForestClassifier(n_estimators =100, ccp_alpha= 0.04, random_state = 14)"
      ],
      "metadata": {
        "id": "QVasI5q_t5TP"
      },
      "execution_count": null,
      "outputs": []
    },
    {
      "cell_type": "code",
      "source": [
        "#fit the classifier with x and y  data = train\n",
        "mod_rf = clf_rf.fit(X_train, y_train)"
      ],
      "metadata": {
        "colab": {
          "base_uri": "https://localhost:8080/"
        },
        "id": "3OrxczmUuBj4",
        "outputId": "da0845d3-9301-45cc-8c4d-7308d3bf72f3"
      },
      "execution_count": null,
      "outputs": [
        {
          "output_type": "stream",
          "name": "stderr",
          "text": [
            "/usr/local/lib/python3.7/dist-packages/ipykernel_launcher.py:2: DataConversionWarning: A column-vector y was passed when a 1d array was expected. Please change the shape of y to (n_samples,), for example using ravel().\n",
            "  \n"
          ]
        }
      ]
    },
    {
      "cell_type": "code",
      "source": [
        "#Prediction \n",
        "y_train_pred = mod_rf.predict(X_train)\n",
        "y_train_pred"
      ],
      "metadata": {
        "colab": {
          "base_uri": "https://localhost:8080/"
        },
        "id": "FCE8wC70uMOw",
        "outputId": "e02018f0-8922-4c63-d67c-ac9565350911"
      },
      "execution_count": null,
      "outputs": [
        {
          "output_type": "execute_result",
          "data": {
            "text/plain": [
              "array([1, 0, 0, ..., 1, 1, 0])"
            ]
          },
          "metadata": {},
          "execution_count": 136
        }
      ]
    },
    {
      "cell_type": "code",
      "source": [
        "#Prediction \n",
        "y_test_pred = mod_rf.predict(X_test)\n",
        "y_test_pred"
      ],
      "metadata": {
        "colab": {
          "base_uri": "https://localhost:8080/"
        },
        "id": "3CKHLAV5uca2",
        "outputId": "c271b0e5-b059-4eb4-f6d1-cd9e961db9d3"
      },
      "execution_count": null,
      "outputs": [
        {
          "output_type": "execute_result",
          "data": {
            "text/plain": [
              "array([0, 0, 0, ..., 1, 0, 1])"
            ]
          },
          "metadata": {},
          "execution_count": 137
        }
      ]
    },
    {
      "cell_type": "code",
      "source": [
        "from sklearn.metrics import accuracy_score\n",
        "\n",
        "print(round(accuracy_score(y_train,y_train_pred), 2))"
      ],
      "metadata": {
        "colab": {
          "base_uri": "https://localhost:8080/"
        },
        "id": "7FJFYgw4uqeK",
        "outputId": "cb06c00e-94a4-4527-968e-e8946cbc13f1"
      },
      "execution_count": null,
      "outputs": [
        {
          "output_type": "stream",
          "name": "stdout",
          "text": [
            "0.98\n"
          ]
        }
      ]
    },
    {
      "cell_type": "code",
      "source": [
        "print(round(accuracy_score(y_test,y_test_pred), 2))"
      ],
      "metadata": {
        "colab": {
          "base_uri": "https://localhost:8080/"
        },
        "id": "G5sc9jNZuwIo",
        "outputId": "c9d24893-cb2f-47b2-da98-321583a90b98"
      },
      "execution_count": null,
      "outputs": [
        {
          "output_type": "stream",
          "name": "stdout",
          "text": [
            "0.98\n"
          ]
        }
      ]
    },
    {
      "cell_type": "code",
      "source": [
        "#_____________________________ Extract Feature Importance \n",
        "fi = pd.DataFrame({'feature': list(X_train.columns),\n",
        "                   'importance': mod_rf.feature_importances_}).\\\n",
        "    sort_values('importance', ascending = False)"
      ],
      "metadata": {
        "id": "WsUaCzeEuywQ"
      },
      "execution_count": null,
      "outputs": []
    },
    {
      "cell_type": "code",
      "source": [
        "fi.head()"
      ],
      "metadata": {
        "colab": {
          "base_uri": "https://localhost:8080/",
          "height": 206
        },
        "id": "8dYU_peSu08y",
        "outputId": "0dfc2496-adea-4e47-a865-657ef21e6e5f"
      },
      "execution_count": null,
      "outputs": [
        {
          "output_type": "execute_result",
          "data": {
            "text/html": [
              "<div>\n",
              "<style scoped>\n",
              "    .dataframe tbody tr th:only-of-type {\n",
              "        vertical-align: middle;\n",
              "    }\n",
              "\n",
              "    .dataframe tbody tr th {\n",
              "        vertical-align: top;\n",
              "    }\n",
              "\n",
              "    .dataframe thead th {\n",
              "        text-align: right;\n",
              "    }\n",
              "</style>\n",
              "<table border=\"1\" class=\"dataframe\">\n",
              "  <thead>\n",
              "    <tr style=\"text-align: right;\">\n",
              "      <th></th>\n",
              "      <th>feature</th>\n",
              "      <th>importance</th>\n",
              "    </tr>\n",
              "  </thead>\n",
              "  <tbody>\n",
              "    <tr>\n",
              "      <th>2</th>\n",
              "      <td>Light</td>\n",
              "      <td>0.511094</td>\n",
              "    </tr>\n",
              "    <tr>\n",
              "      <th>3</th>\n",
              "      <td>CO2</td>\n",
              "      <td>0.304064</td>\n",
              "    </tr>\n",
              "    <tr>\n",
              "      <th>0</th>\n",
              "      <td>Temperature</td>\n",
              "      <td>0.089617</td>\n",
              "    </tr>\n",
              "    <tr>\n",
              "      <th>7</th>\n",
              "      <td>hour</td>\n",
              "      <td>0.057141</td>\n",
              "    </tr>\n",
              "    <tr>\n",
              "      <th>4</th>\n",
              "      <td>HumidityRatio</td>\n",
              "      <td>0.027836</td>\n",
              "    </tr>\n",
              "  </tbody>\n",
              "</table>\n",
              "</div>"
            ],
            "text/plain": [
              "         feature  importance\n",
              "2          Light    0.511094\n",
              "3            CO2    0.304064\n",
              "0    Temperature    0.089617\n",
              "7           hour    0.057141\n",
              "4  HumidityRatio    0.027836"
            ]
          },
          "metadata": {},
          "execution_count": 141
        }
      ]
    },
    {
      "cell_type": "code",
      "source": [
        "# Accuarcy 2 cells above is 0.98 & 0.98 for Train & test (respectively)\n",
        "# This accuracy is for having all columns as features in our model\n",
        "# Lets build a model keeping 2 best features \n",
        "# that is keeping 'Light' , 'CO2' only\n",
        "from sklearn.ensemble import RandomForestClassifier"
      ],
      "metadata": {
        "id": "X9XNxG5mu4Ir"
      },
      "execution_count": null,
      "outputs": []
    },
    {
      "cell_type": "code",
      "source": [
        "#Create Classifier object \n",
        "#in our previous experiment Decision Tree model, \n",
        "#we found ccp_alphas = 0.035 has the best accuarcy \n",
        "clf_rf1 = RandomForestClassifier(n_estimators =100, ccp_alpha= 0.04, random_state = 14)"
      ],
      "metadata": {
        "id": "I0NUVn3TvP7q"
      },
      "execution_count": null,
      "outputs": []
    },
    {
      "cell_type": "code",
      "source": [
        "# fit the classifier with x and y data=TRAIN, \n",
        "#this time with Failure_Type only\n",
        "X_train.info()"
      ],
      "metadata": {
        "colab": {
          "base_uri": "https://localhost:8080/"
        },
        "id": "HNq3oNClvpOJ",
        "outputId": "0d271f89-ee5f-4784-fecd-62de8bed8fa8"
      },
      "execution_count": null,
      "outputs": [
        {
          "output_type": "stream",
          "name": "stdout",
          "text": [
            "<class 'pandas.core.frame.DataFrame'>\n",
            "Int64Index: 7565 entries, 5519 to 2732\n",
            "Data columns (total 9 columns):\n",
            " #   Column         Non-Null Count  Dtype  \n",
            "---  ------         --------------  -----  \n",
            " 0   Temperature    7565 non-null   float64\n",
            " 1   Humidity       7565 non-null   float64\n",
            " 2   Light          7565 non-null   float64\n",
            " 3   CO2            7565 non-null   float64\n",
            " 4   HumidityRatio  7565 non-null   float64\n",
            " 5   month          7565 non-null   int64  \n",
            " 6   day            7565 non-null   int64  \n",
            " 7   hour           7565 non-null   int64  \n",
            " 8   minute         7565 non-null   int64  \n",
            "dtypes: float64(5), int64(4)\n",
            "memory usage: 591.0 KB\n"
          ]
        }
      ]
    },
    {
      "cell_type": "code",
      "source": [
        "X_train1 = X_train.iloc[ : ,[2,3]]\n",
        "X_train1.info()"
      ],
      "metadata": {
        "colab": {
          "base_uri": "https://localhost:8080/"
        },
        "id": "MNoEu3OZvuJC",
        "outputId": "90f9b767-582f-4238-f509-f01285f278d3"
      },
      "execution_count": null,
      "outputs": [
        {
          "output_type": "stream",
          "name": "stdout",
          "text": [
            "<class 'pandas.core.frame.DataFrame'>\n",
            "Int64Index: 7565 entries, 5519 to 2732\n",
            "Data columns (total 2 columns):\n",
            " #   Column  Non-Null Count  Dtype  \n",
            "---  ------  --------------  -----  \n",
            " 0   Light   7565 non-null   float64\n",
            " 1   CO2     7565 non-null   float64\n",
            "dtypes: float64(2)\n",
            "memory usage: 177.3 KB\n"
          ]
        }
      ]
    },
    {
      "cell_type": "code",
      "source": [
        "mod_rf1 = clf_rf1.fit(X_train1, y_train)"
      ],
      "metadata": {
        "colab": {
          "base_uri": "https://localhost:8080/"
        },
        "id": "CxtbKChTv68K",
        "outputId": "ddd1dcfb-938d-4389-9d59-87dc4bffa741"
      },
      "execution_count": null,
      "outputs": [
        {
          "output_type": "stream",
          "name": "stderr",
          "text": [
            "/usr/local/lib/python3.7/dist-packages/ipykernel_launcher.py:1: DataConversionWarning: A column-vector y was passed when a 1d array was expected. Please change the shape of y to (n_samples,), for example using ravel().\n",
            "  \"\"\"Entry point for launching an IPython kernel.\n"
          ]
        }
      ]
    },
    {
      "cell_type": "code",
      "source": [
        "#Prediction \n",
        "y_train_pred1 = mod_rf1.predict(X_train1)\n",
        "y_train_pred1"
      ],
      "metadata": {
        "colab": {
          "base_uri": "https://localhost:8080/"
        },
        "id": "M7U9eMyVwDx1",
        "outputId": "b02e4a0d-1a42-42f3-98bf-c17c6dd15250"
      },
      "execution_count": null,
      "outputs": [
        {
          "output_type": "execute_result",
          "data": {
            "text/plain": [
              "array([1, 0, 0, ..., 1, 1, 0])"
            ]
          },
          "metadata": {},
          "execution_count": 147
        }
      ]
    },
    {
      "cell_type": "code",
      "source": [
        "X_test.info()"
      ],
      "metadata": {
        "colab": {
          "base_uri": "https://localhost:8080/"
        },
        "id": "YbTHKreSwGT7",
        "outputId": "e96c2b64-e62b-4696-e0a4-e092b23d3eba"
      },
      "execution_count": null,
      "outputs": [
        {
          "output_type": "stream",
          "name": "stdout",
          "text": [
            "<class 'pandas.core.frame.DataFrame'>\n",
            "Int64Index: 3243 entries, 5862 to 3981\n",
            "Data columns (total 9 columns):\n",
            " #   Column         Non-Null Count  Dtype  \n",
            "---  ------         --------------  -----  \n",
            " 0   Temperature    3243 non-null   float64\n",
            " 1   Humidity       3243 non-null   float64\n",
            " 2   Light          3243 non-null   float64\n",
            " 3   CO2            3243 non-null   float64\n",
            " 4   HumidityRatio  3243 non-null   float64\n",
            " 5   month          3243 non-null   int64  \n",
            " 6   day            3243 non-null   int64  \n",
            " 7   hour           3243 non-null   int64  \n",
            " 8   minute         3243 non-null   int64  \n",
            "dtypes: float64(5), int64(4)\n",
            "memory usage: 253.4 KB\n"
          ]
        }
      ]
    },
    {
      "cell_type": "code",
      "source": [
        "X_test1 = X_test.iloc[ : ,[2,3]]\n",
        "X_test1.info()"
      ],
      "metadata": {
        "colab": {
          "base_uri": "https://localhost:8080/"
        },
        "id": "g5SxA6EEwI0A",
        "outputId": "6045f3eb-0002-43a6-847a-a8eebc2ffd95"
      },
      "execution_count": null,
      "outputs": [
        {
          "output_type": "stream",
          "name": "stdout",
          "text": [
            "<class 'pandas.core.frame.DataFrame'>\n",
            "Int64Index: 3243 entries, 5862 to 3981\n",
            "Data columns (total 2 columns):\n",
            " #   Column  Non-Null Count  Dtype  \n",
            "---  ------  --------------  -----  \n",
            " 0   Light   3243 non-null   float64\n",
            " 1   CO2     3243 non-null   float64\n",
            "dtypes: float64(2)\n",
            "memory usage: 76.0 KB\n"
          ]
        }
      ]
    },
    {
      "cell_type": "code",
      "source": [
        "#Prediction \n",
        "y_test_pred1 = mod_rf1.predict(X_test1)\n",
        "y_test_pred1"
      ],
      "metadata": {
        "colab": {
          "base_uri": "https://localhost:8080/"
        },
        "id": "1stPmLSvwg8-",
        "outputId": "cf407790-c490-4c66-90c8-f478c6a069a7"
      },
      "execution_count": null,
      "outputs": [
        {
          "output_type": "execute_result",
          "data": {
            "text/plain": [
              "array([0, 0, 0, ..., 1, 0, 1])"
            ]
          },
          "metadata": {},
          "execution_count": 150
        }
      ]
    },
    {
      "cell_type": "code",
      "source": [
        "from sklearn.metrics import accuracy_score"
      ],
      "metadata": {
        "id": "6oDXxPNfwjN2"
      },
      "execution_count": null,
      "outputs": []
    },
    {
      "cell_type": "code",
      "source": [
        "print(round(accuracy_score(y_train,y_train_pred1), 2))"
      ],
      "metadata": {
        "colab": {
          "base_uri": "https://localhost:8080/"
        },
        "id": "znePtBG6wlFQ",
        "outputId": "e28140fd-eac5-4ff9-9624-87a91b3fcf77"
      },
      "execution_count": null,
      "outputs": [
        {
          "output_type": "stream",
          "name": "stdout",
          "text": [
            "0.98\n"
          ]
        }
      ]
    },
    {
      "cell_type": "code",
      "source": [
        "print(round(accuracy_score(y_test,y_test_pred1), 2))"
      ],
      "metadata": {
        "colab": {
          "base_uri": "https://localhost:8080/"
        },
        "id": "GYHfVrtPwmwR",
        "outputId": "3444db17-0242-4ae8-e8cc-2e45eeeebf49"
      },
      "execution_count": null,
      "outputs": [
        {
          "output_type": "stream",
          "name": "stdout",
          "text": [
            "0.99\n"
          ]
        }
      ]
    },
    {
      "cell_type": "code",
      "source": [
        "### There is no much difference in accuarcy \n",
        "#Earlier train accuracy = 0.98 now with 2 features its 0.98\n",
        "#Earlier test accuracy = 0.98 now with 2 features its 0.98"
      ],
      "metadata": {
        "id": "gs6fa6pRwo1i"
      },
      "execution_count": null,
      "outputs": []
    },
    {
      "cell_type": "code",
      "source": [
        "### Confusion Matrix\n",
        "from sklearn.metrics import confusion_matrix"
      ],
      "metadata": {
        "id": "ppkoCNtoxBSR"
      },
      "execution_count": null,
      "outputs": []
    },
    {
      "cell_type": "code",
      "source": [
        "confusion_matrix = confusion_matrix(y_test, y_test_pred1)\n",
        "print(confusion_matrix)"
      ],
      "metadata": {
        "colab": {
          "base_uri": "https://localhost:8080/"
        },
        "id": "MpZEbXmZxDAN",
        "outputId": "bb496002-f3f3-43ed-a1d1-6feea5a09be9"
      },
      "execution_count": null,
      "outputs": [
        {
          "output_type": "stream",
          "name": "stdout",
          "text": [
            "[[2349   40]\n",
            " [   5  849]]\n"
          ]
        }
      ]
    },
    {
      "cell_type": "code",
      "source": [
        "### Classification Report\n",
        "print(classification_report(y_test, y_test_pred1))"
      ],
      "metadata": {
        "colab": {
          "base_uri": "https://localhost:8080/"
        },
        "id": "VC_QteAVxEkV",
        "outputId": "a8c32902-c1d5-4a42-e24e-1ee75a8b9587"
      },
      "execution_count": null,
      "outputs": [
        {
          "output_type": "stream",
          "name": "stdout",
          "text": [
            "              precision    recall  f1-score   support\n",
            "\n",
            "           0       1.00      0.98      0.99      2389\n",
            "           1       0.96      0.99      0.97       854\n",
            "\n",
            "    accuracy                           0.99      3243\n",
            "   macro avg       0.98      0.99      0.98      3243\n",
            "weighted avg       0.99      0.99      0.99      3243\n",
            "\n"
          ]
        }
      ]
    },
    {
      "cell_type": "code",
      "source": [
        "###########################  ROC AUC Curve \n",
        "\n",
        "from sklearn.metrics import roc_auc_score\n",
        "from sklearn.metrics import roc_curve\n",
        "from sklearn.metrics import roc_curve, auc, roc_auc_score"
      ],
      "metadata": {
        "id": "KeL_Zt35xGRk"
      },
      "execution_count": null,
      "outputs": []
    },
    {
      "cell_type": "code",
      "source": [
        "predictedProbability1 = mod_rf1.predict_proba(X_test1)[:, 1]\n",
        "fpr,tpr, thresholds = metrics.roc_curve(y_test, predictedProbability1)"
      ],
      "metadata": {
        "id": "L5vlryMGxIik"
      },
      "execution_count": null,
      "outputs": []
    },
    {
      "cell_type": "code",
      "source": [
        "fpr"
      ],
      "metadata": {
        "colab": {
          "base_uri": "https://localhost:8080/"
        },
        "id": "7HF_fsBcxPD6",
        "outputId": "55008050-e0c7-4210-ada7-cd19555aa28e"
      },
      "execution_count": null,
      "outputs": [
        {
          "output_type": "execute_result",
          "data": {
            "text/plain": [
              "array([0.00000000e+00, 4.18585182e-04, 1.17203851e-02, 1.21389703e-02,\n",
              "       1.21389703e-02, 1.21389703e-02, 1.21389703e-02, 1.25575555e-02,\n",
              "       1.25575555e-02, 1.25575555e-02, 1.29761406e-02, 1.29761406e-02,\n",
              "       1.29761406e-02, 1.29761406e-02, 1.29761406e-02, 1.29761406e-02,\n",
              "       1.29761406e-02, 1.63248221e-02, 1.67434073e-02, 1.67434073e-02,\n",
              "       1.67434073e-02, 7.07408958e-02, 7.86940142e-02, 7.99497698e-02,\n",
              "       8.37170364e-02, 9.20887401e-02, 9.54374215e-02, 1.02134784e-01,\n",
              "       1.03809125e-01, 1.04646296e-01, 1.09669318e-01, 1.12599414e-01,\n",
              "       1.14692340e-01, 1.15529510e-01, 1.17203851e-01, 1.18459607e-01,\n",
              "       1.19296777e-01, 1.20133947e-01, 1.23064044e-01, 1.00000000e+00])"
            ]
          },
          "metadata": {},
          "execution_count": 159
        }
      ]
    },
    {
      "cell_type": "code",
      "source": [
        "tpr"
      ],
      "metadata": {
        "colab": {
          "base_uri": "https://localhost:8080/"
        },
        "id": "ZdIQ2WLaxRHz",
        "outputId": "691e94eb-0a65-4a79-c6c7-2e9d1b251c3a"
      },
      "execution_count": null,
      "outputs": [
        {
          "output_type": "execute_result",
          "data": {
            "text/plain": [
              "array([0.        , 0.01639344, 0.85362998, 0.85831382, 0.8618267 ,\n",
              "       0.87002342, 0.88173302, 0.8969555 , 0.90046838, 0.90163934,\n",
              "       0.91100703, 0.91569087, 0.92271663, 0.92505855, 0.92857143,\n",
              "       0.93091335, 0.93325527, 0.9941452 , 0.9941452 , 0.99765808,\n",
              "       0.99882904, 0.99882904, 0.99882904, 0.99882904, 0.99882904,\n",
              "       0.99882904, 0.99882904, 0.99882904, 0.99882904, 0.99882904,\n",
              "       0.99882904, 0.99882904, 0.99882904, 0.99882904, 0.99882904,\n",
              "       0.99882904, 0.99882904, 0.99882904, 0.99882904, 1.        ])"
            ]
          },
          "metadata": {},
          "execution_count": 160
        }
      ]
    },
    {
      "cell_type": "code",
      "source": [
        "thresholds"
      ],
      "metadata": {
        "colab": {
          "base_uri": "https://localhost:8080/"
        },
        "id": "RX-M_g1SxTWl",
        "outputId": "83f532d7-ccfe-439c-88f3-2ddb51a336f1"
      },
      "execution_count": null,
      "outputs": [
        {
          "output_type": "execute_result",
          "data": {
            "text/plain": [
              "array([1.88230225, 0.88230225, 0.8814641 , 0.87484168, 0.87408866,\n",
              "       0.86628095, 0.8655035 , 0.85796363, 0.85055406, 0.84318438,\n",
              "       0.83853817, 0.82930016, 0.82196696, 0.71072826, 0.6441427 ,\n",
              "       0.63684772, 0.52635246, 0.50996269, 0.50362834, 0.48223706,\n",
              "       0.40743401, 0.27606965, 0.26777633, 0.26011641, 0.25196408,\n",
              "       0.24428268, 0.24428079, 0.2367428 , 0.22933324, 0.19969356,\n",
              "       0.19942138, 0.19236036, 0.09237772, 0.08565025, 0.08508274,\n",
              "       0.05023504, 0.02462451, 0.02221881, 0.02202243, 0.01513416])"
            ]
          },
          "metadata": {},
          "execution_count": 161
        }
      ]
    },
    {
      "cell_type": "code",
      "source": [
        "dff1 = pd.DataFrame(dict(fpr = fpr,tpr = tpr))\n",
        "auc1 = auc(fpr,tpr)\n",
        "auc1"
      ],
      "metadata": {
        "colab": {
          "base_uri": "https://localhost:8080/"
        },
        "id": "wgHY0fsZxVCk",
        "outputId": "8accfda0-8eee-4615-f922-fd8b91e41e43"
      },
      "execution_count": null,
      "outputs": [
        {
          "output_type": "execute_result",
          "data": {
            "text/plain": [
              "0.9922917097587204"
            ]
          },
          "metadata": {},
          "execution_count": 162
        }
      ]
    },
    {
      "cell_type": "code",
      "source": [
        "''' Area Under Curve is 0.99 '''"
      ],
      "metadata": {
        "id": "CwGP2jygxXMB"
      },
      "execution_count": null,
      "outputs": []
    },
    {
      "cell_type": "code",
      "source": [
        "plt.figure()\n",
        "lw = 2\n",
        "plt.plot(fpr, tpr, color = 'green',\n",
        "         lw =lw, label = 'ROC Curve (area = %0.2f)' %auc1)\n",
        "plt.plot([0,1],[0,1], color='navy', lw = lw, linestyle = '--')\n",
        "plt.xlim([-0.1, 1.0])\n",
        "plt.ylim([0.0, 1.1])\n",
        "plt.xlabel('1-Specificity(False Positive Rate)')\n",
        "plt.ylabel('Sensitivity(True Positive Rate)')\n",
        "plt.title(\"ROC - AUC for Random forest\")\n",
        "plt.legend(loc = \"lower right\")\n",
        "plt.show()"
      ],
      "metadata": {
        "colab": {
          "base_uri": "https://localhost:8080/",
          "height": 301
        },
        "id": "qPKYuS2axmQ4",
        "outputId": "5e99c78a-c40a-4d38-bc7d-e316d2f8549b"
      },
      "execution_count": null,
      "outputs": [
        {
          "output_type": "display_data",
          "data": {
            "image/png": "[encoded data removed]",
            "text/plain": [
              "<Figure size 432x288 with 1 Axes>"
            ]
          },
          "metadata": {}
        }
      ]
    },
    {
      "cell_type": "markdown",
      "source": [
        "**# GRADIENT BOOSTING MODEL**"
      ],
      "metadata": {
        "id": "D0En2cGJzh7O"
      }
    },
    {
      "cell_type": "code",
      "source": [
        "from sklearn.ensemble import GradientBoostingClassifier\n",
        "from sklearn.model_selection import GridSearchCV"
      ],
      "metadata": {
        "id": "UxDO21CXxoQH"
      },
      "execution_count": null,
      "outputs": []
    },
    {
      "cell_type": "code",
      "source": [
        "df.info()"
      ],
      "metadata": {
        "colab": {
          "base_uri": "https://localhost:8080/"
        },
        "id": "A9L4yrcXzhF-",
        "outputId": "3a3bce9a-3fb9-4ac2-cfea-0396451e28cf"
      },
      "execution_count": null,
      "outputs": [
        {
          "output_type": "stream",
          "name": "stdout",
          "text": [
            "<class 'pandas.core.frame.DataFrame'>\n",
            "RangeIndex: 10808 entries, 0 to 10807\n",
            "Data columns (total 10 columns):\n",
            " #   Column         Non-Null Count  Dtype  \n",
            "---  ------         --------------  -----  \n",
            " 0   Temperature    10808 non-null  float64\n",
            " 1   Humidity       10808 non-null  float64\n",
            " 2   Light          10808 non-null  float64\n",
            " 3   CO2            10808 non-null  float64\n",
            " 4   HumidityRatio  10808 non-null  float64\n",
            " 5   Occupancy      10808 non-null  int64  \n",
            " 6   month          10808 non-null  int64  \n",
            " 7   day            10808 non-null  int64  \n",
            " 8   hour           10808 non-null  int64  \n",
            " 9   minute         10808 non-null  int64  \n",
            "dtypes: float64(5), int64(5)\n",
            "memory usage: 844.5 KB\n"
          ]
        }
      ]
    },
    {
      "cell_type": "code",
      "source": [
        "X_train_os = train_os.loc[:, train_os.columns != 'Occupancy']\n",
        "y_train_os = train_os.loc[:, train_os.columns == 'Occupancy']"
      ],
      "metadata": {
        "id": "5fDNr50ezpfJ"
      },
      "execution_count": null,
      "outputs": []
    },
    {
      "cell_type": "code",
      "source": [
        "X.info()"
      ],
      "metadata": {
        "colab": {
          "base_uri": "https://localhost:8080/"
        },
        "id": "x6TYBJVnz42Q",
        "outputId": "57f86c99-24a7-4e00-c932-c82673f9416c"
      },
      "execution_count": null,
      "outputs": [
        {
          "output_type": "stream",
          "name": "stdout",
          "text": [
            "<class 'pandas.core.frame.DataFrame'>\n",
            "RangeIndex: 10808 entries, 0 to 10807\n",
            "Data columns (total 9 columns):\n",
            " #   Column         Non-Null Count  Dtype  \n",
            "---  ------         --------------  -----  \n",
            " 0   Temperature    10808 non-null  float64\n",
            " 1   Humidity       10808 non-null  float64\n",
            " 2   Light          10808 non-null  float64\n",
            " 3   CO2            10808 non-null  float64\n",
            " 4   HumidityRatio  10808 non-null  float64\n",
            " 5   month          10808 non-null  int64  \n",
            " 6   day            10808 non-null  int64  \n",
            " 7   hour           10808 non-null  int64  \n",
            " 8   minute         10808 non-null  int64  \n",
            "dtypes: float64(5), int64(4)\n",
            "memory usage: 760.1 KB\n"
          ]
        }
      ]
    },
    {
      "cell_type": "code",
      "source": [
        "y"
      ],
      "metadata": {
        "colab": {
          "base_uri": "https://localhost:8080/",
          "height": 423
        },
        "id": "sm0jtN9Mz6_N",
        "outputId": "37d672f6-8ab6-4140-d56e-b9fc67a89233"
      },
      "execution_count": null,
      "outputs": [
        {
          "output_type": "execute_result",
          "data": {
            "text/html": [
              "<div>\n",
              "<style scoped>\n",
              "    .dataframe tbody tr th:only-of-type {\n",
              "        vertical-align: middle;\n",
              "    }\n",
              "\n",
              "    .dataframe tbody tr th {\n",
              "        vertical-align: top;\n",
              "    }\n",
              "\n",
              "    .dataframe thead th {\n",
              "        text-align: right;\n",
              "    }\n",
              "</style>\n",
              "<table border=\"1\" class=\"dataframe\">\n",
              "  <thead>\n",
              "    <tr style=\"text-align: right;\">\n",
              "      <th></th>\n",
              "      <th>Occupancy</th>\n",
              "    </tr>\n",
              "  </thead>\n",
              "  <tbody>\n",
              "    <tr>\n",
              "      <th>0</th>\n",
              "      <td>1</td>\n",
              "    </tr>\n",
              "    <tr>\n",
              "      <th>1</th>\n",
              "      <td>1</td>\n",
              "    </tr>\n",
              "    <tr>\n",
              "      <th>2</th>\n",
              "      <td>1</td>\n",
              "    </tr>\n",
              "    <tr>\n",
              "      <th>3</th>\n",
              "      <td>1</td>\n",
              "    </tr>\n",
              "    <tr>\n",
              "      <th>4</th>\n",
              "      <td>1</td>\n",
              "    </tr>\n",
              "    <tr>\n",
              "      <th>...</th>\n",
              "      <td>...</td>\n",
              "    </tr>\n",
              "    <tr>\n",
              "      <th>10803</th>\n",
              "      <td>1</td>\n",
              "    </tr>\n",
              "    <tr>\n",
              "      <th>10804</th>\n",
              "      <td>1</td>\n",
              "    </tr>\n",
              "    <tr>\n",
              "      <th>10805</th>\n",
              "      <td>1</td>\n",
              "    </tr>\n",
              "    <tr>\n",
              "      <th>10806</th>\n",
              "      <td>1</td>\n",
              "    </tr>\n",
              "    <tr>\n",
              "      <th>10807</th>\n",
              "      <td>1</td>\n",
              "    </tr>\n",
              "  </tbody>\n",
              "</table>\n",
              "<p>10808 rows × 1 columns</p>\n",
              "</div>"
            ],
            "text/plain": [
              "       Occupancy\n",
              "0              1\n",
              "1              1\n",
              "2              1\n",
              "3              1\n",
              "4              1\n",
              "...          ...\n",
              "10803          1\n",
              "10804          1\n",
              "10805          1\n",
              "10806          1\n",
              "10807          1\n",
              "\n",
              "[10808 rows x 1 columns]"
            ]
          },
          "metadata": {},
          "execution_count": 168
        }
      ]
    },
    {
      "cell_type": "code",
      "source": [
        "'''Fit Tree'''\n",
        "#train test - split \n",
        "\n",
        "from sklearn.model_selection import train_test_split"
      ],
      "metadata": {
        "id": "d2sL-XK7z87C"
      },
      "execution_count": null,
      "outputs": []
    },
    {
      "cell_type": "code",
      "source": [
        "X_train, X_test, y_train, y_test = train_test_split(X, y, test_size=0.3, random_state=0)"
      ],
      "metadata": {
        "id": "0gtX414L0AhQ"
      },
      "execution_count": null,
      "outputs": []
    },
    {
      "cell_type": "code",
      "source": [
        "GB = GradientBoostingClassifier()"
      ],
      "metadata": {
        "id": "QjAdpxVS0C38"
      },
      "execution_count": null,
      "outputs": []
    },
    {
      "cell_type": "code",
      "source": [
        "GB_mod = GB.fit(X_train, y_train)"
      ],
      "metadata": {
        "colab": {
          "base_uri": "https://localhost:8080/"
        },
        "id": "WprWUreV0E8y",
        "outputId": "de312666-bec5-4a2d-d4ec-d5fab1d58a74"
      },
      "execution_count": null,
      "outputs": [
        {
          "output_type": "stream",
          "name": "stderr",
          "text": [
            "/usr/local/lib/python3.7/dist-packages/sklearn/ensemble/_gb.py:494: DataConversionWarning: A column-vector y was passed when a 1d array was expected. Please change the shape of y to (n_samples, ), for example using ravel().\n",
            "  y = column_or_1d(y, warn=True)\n"
          ]
        }
      ]
    },
    {
      "cell_type": "code",
      "source": [
        "# Prediction\n",
        "y_train_GB = GB_mod.predict(X_train)\n",
        "y_train_GB"
      ],
      "metadata": {
        "colab": {
          "base_uri": "https://localhost:8080/"
        },
        "id": "wse70bcJ0HCD",
        "outputId": "3b1cc686-ac3a-497f-ecef-57a7e615d546"
      },
      "execution_count": null,
      "outputs": [
        {
          "output_type": "execute_result",
          "data": {
            "text/plain": [
              "array([1, 0, 0, ..., 1, 1, 0])"
            ]
          },
          "metadata": {},
          "execution_count": 173
        }
      ]
    },
    {
      "cell_type": "code",
      "source": [
        "# Prediction\n",
        "y_test_GB = GB_mod.predict(X_test)\n",
        "y_test_GB"
      ],
      "metadata": {
        "colab": {
          "base_uri": "https://localhost:8080/"
        },
        "id": "lHq881th0J6Y",
        "outputId": "6f7d62a5-7417-452b-e3e0-7166a33ba6dc"
      },
      "execution_count": null,
      "outputs": [
        {
          "output_type": "execute_result",
          "data": {
            "text/plain": [
              "array([0, 0, 0, ..., 1, 0, 1])"
            ]
          },
          "metadata": {},
          "execution_count": 174
        }
      ]
    },
    {
      "cell_type": "code",
      "source": [
        "print(round(accuracy_score(y_train, y_train_GB), 2))"
      ],
      "metadata": {
        "colab": {
          "base_uri": "https://localhost:8080/"
        },
        "id": "jDjuvmR93-P7",
        "outputId": "dce3cf9c-b0d9-472a-e350-2a7d267d7131"
      },
      "execution_count": null,
      "outputs": [
        {
          "output_type": "stream",
          "name": "stdout",
          "text": [
            "0.99\n"
          ]
        }
      ]
    },
    {
      "cell_type": "code",
      "source": [
        "print(round(accuracy_score(y_test, y_test_GB), 2))"
      ],
      "metadata": {
        "colab": {
          "base_uri": "https://localhost:8080/"
        },
        "id": "JWLQVMXM4Ar2",
        "outputId": "bc0d5a13-445c-43a4-fc82-2118254b4cd6"
      },
      "execution_count": null,
      "outputs": [
        {
          "output_type": "stream",
          "name": "stdout",
          "text": [
            "0.99\n"
          ]
        }
      ]
    },
    {
      "cell_type": "code",
      "source": [
        "### Confusion Matrix\n",
        "from sklearn.metrics import confusion_matrix"
      ],
      "metadata": {
        "id": "zg-p2nO94C0Y"
      },
      "execution_count": null,
      "outputs": []
    },
    {
      "cell_type": "code",
      "source": [
        "confusion_matrix = confusion_matrix(y_test, y_test_GB)\n",
        "print(confusion_matrix)"
      ],
      "metadata": {
        "colab": {
          "base_uri": "https://localhost:8080/"
        },
        "id": "ZB8532Xp4Feu",
        "outputId": "e1d3c002-3777-4260-ea6b-cd6a23667384"
      },
      "execution_count": null,
      "outputs": [
        {
          "output_type": "stream",
          "name": "stdout",
          "text": [
            "[[2368   21]\n",
            " [   6  848]]\n"
          ]
        }
      ]
    },
    {
      "cell_type": "code",
      "source": [
        "### Classification Report\n",
        "from sklearn.metrics import classification_report"
      ],
      "metadata": {
        "id": "a_UQyBkM4HTv"
      },
      "execution_count": null,
      "outputs": []
    },
    {
      "cell_type": "code",
      "source": [
        "print(classification_report(y_test, y_test_GB))"
      ],
      "metadata": {
        "colab": {
          "base_uri": "https://localhost:8080/"
        },
        "id": "o1UeO1PQ4JER",
        "outputId": "0b50e497-3397-4e80-8f63-9bf1d577b911"
      },
      "execution_count": null,
      "outputs": [
        {
          "output_type": "stream",
          "name": "stdout",
          "text": [
            "              precision    recall  f1-score   support\n",
            "\n",
            "           0       1.00      0.99      0.99      2389\n",
            "           1       0.98      0.99      0.98       854\n",
            "\n",
            "    accuracy                           0.99      3243\n",
            "   macro avg       0.99      0.99      0.99      3243\n",
            "weighted avg       0.99      0.99      0.99      3243\n",
            "\n"
          ]
        }
      ]
    },
    {
      "cell_type": "markdown",
      "source": [
        "**# KNOWING YOUR NEAREST NEIGHBORS**"
      ],
      "metadata": {
        "id": "y0xJ7E034Rjp"
      }
    },
    {
      "cell_type": "code",
      "source": [
        "df.info()"
      ],
      "metadata": {
        "colab": {
          "base_uri": "https://localhost:8080/"
        },
        "id": "P-6ezFiB4K3D",
        "outputId": "5538ffe4-3310-4a03-c46c-e0aaf083039d"
      },
      "execution_count": null,
      "outputs": [
        {
          "output_type": "stream",
          "name": "stdout",
          "text": [
            "<class 'pandas.core.frame.DataFrame'>\n",
            "RangeIndex: 10808 entries, 0 to 10807\n",
            "Data columns (total 10 columns):\n",
            " #   Column         Non-Null Count  Dtype  \n",
            "---  ------         --------------  -----  \n",
            " 0   Temperature    10808 non-null  float64\n",
            " 1   Humidity       10808 non-null  float64\n",
            " 2   Light          10808 non-null  float64\n",
            " 3   CO2            10808 non-null  float64\n",
            " 4   HumidityRatio  10808 non-null  float64\n",
            " 5   Occupancy      10808 non-null  int64  \n",
            " 6   month          10808 non-null  int64  \n",
            " 7   day            10808 non-null  int64  \n",
            " 8   hour           10808 non-null  int64  \n",
            " 9   minute         10808 non-null  int64  \n",
            "dtypes: float64(5), int64(5)\n",
            "memory usage: 844.5 KB\n"
          ]
        }
      ]
    },
    {
      "cell_type": "code",
      "source": [
        "X_train_os = train_os.loc[:, train_os.columns != 'Occupancy']\n",
        "y_train_os = train_os.loc[:, train_os.columns == 'Occupancy']"
      ],
      "metadata": {
        "id": "phtCOtIl4kcC"
      },
      "execution_count": null,
      "outputs": []
    },
    {
      "cell_type": "code",
      "source": [
        "X.info()"
      ],
      "metadata": {
        "colab": {
          "base_uri": "https://localhost:8080/"
        },
        "id": "qEojH01l5Kry",
        "outputId": "41c4678e-6d8f-46b2-8a5f-14f29fa8c13f"
      },
      "execution_count": null,
      "outputs": [
        {
          "output_type": "stream",
          "name": "stdout",
          "text": [
            "<class 'pandas.core.frame.DataFrame'>\n",
            "RangeIndex: 10808 entries, 0 to 10807\n",
            "Data columns (total 9 columns):\n",
            " #   Column         Non-Null Count  Dtype  \n",
            "---  ------         --------------  -----  \n",
            " 0   Temperature    10808 non-null  float64\n",
            " 1   Humidity       10808 non-null  float64\n",
            " 2   Light          10808 non-null  float64\n",
            " 3   CO2            10808 non-null  float64\n",
            " 4   HumidityRatio  10808 non-null  float64\n",
            " 5   month          10808 non-null  int64  \n",
            " 6   day            10808 non-null  int64  \n",
            " 7   hour           10808 non-null  int64  \n",
            " 8   minute         10808 non-null  int64  \n",
            "dtypes: float64(5), int64(4)\n",
            "memory usage: 760.1 KB\n"
          ]
        }
      ]
    },
    {
      "cell_type": "code",
      "source": [
        "y"
      ],
      "metadata": {
        "colab": {
          "base_uri": "https://localhost:8080/",
          "height": 423
        },
        "id": "72hU9ZRn5Mrs",
        "outputId": "a5f95db0-01dd-42a6-ac9c-e8805c1a1e7f"
      },
      "execution_count": null,
      "outputs": [
        {
          "output_type": "execute_result",
          "data": {
            "text/html": [
              "<div>\n",
              "<style scoped>\n",
              "    .dataframe tbody tr th:only-of-type {\n",
              "        vertical-align: middle;\n",
              "    }\n",
              "\n",
              "    .dataframe tbody tr th {\n",
              "        vertical-align: top;\n",
              "    }\n",
              "\n",
              "    .dataframe thead th {\n",
              "        text-align: right;\n",
              "    }\n",
              "</style>\n",
              "<table border=\"1\" class=\"dataframe\">\n",
              "  <thead>\n",
              "    <tr style=\"text-align: right;\">\n",
              "      <th></th>\n",
              "      <th>Occupancy</th>\n",
              "    </tr>\n",
              "  </thead>\n",
              "  <tbody>\n",
              "    <tr>\n",
              "      <th>0</th>\n",
              "      <td>1</td>\n",
              "    </tr>\n",
              "    <tr>\n",
              "      <th>1</th>\n",
              "      <td>1</td>\n",
              "    </tr>\n",
              "    <tr>\n",
              "      <th>2</th>\n",
              "      <td>1</td>\n",
              "    </tr>\n",
              "    <tr>\n",
              "      <th>3</th>\n",
              "      <td>1</td>\n",
              "    </tr>\n",
              "    <tr>\n",
              "      <th>4</th>\n",
              "      <td>1</td>\n",
              "    </tr>\n",
              "    <tr>\n",
              "      <th>...</th>\n",
              "      <td>...</td>\n",
              "    </tr>\n",
              "    <tr>\n",
              "      <th>10803</th>\n",
              "      <td>1</td>\n",
              "    </tr>\n",
              "    <tr>\n",
              "      <th>10804</th>\n",
              "      <td>1</td>\n",
              "    </tr>\n",
              "    <tr>\n",
              "      <th>10805</th>\n",
              "      <td>1</td>\n",
              "    </tr>\n",
              "    <tr>\n",
              "      <th>10806</th>\n",
              "      <td>1</td>\n",
              "    </tr>\n",
              "    <tr>\n",
              "      <th>10807</th>\n",
              "      <td>1</td>\n",
              "    </tr>\n",
              "  </tbody>\n",
              "</table>\n",
              "<p>10808 rows × 1 columns</p>\n",
              "</div>"
            ],
            "text/plain": [
              "       Occupancy\n",
              "0              1\n",
              "1              1\n",
              "2              1\n",
              "3              1\n",
              "4              1\n",
              "...          ...\n",
              "10803          1\n",
              "10804          1\n",
              "10805          1\n",
              "10806          1\n",
              "10807          1\n",
              "\n",
              "[10808 rows x 1 columns]"
            ]
          },
          "metadata": {},
          "execution_count": 184
        }
      ]
    },
    {
      "cell_type": "code",
      "source": [
        "from sklearn.linear_model import LogisticRegression\n",
        "from sklearn.model_selection import train_test_split"
      ],
      "metadata": {
        "id": "z1MSTaBJ5PpH"
      },
      "execution_count": null,
      "outputs": []
    },
    {
      "cell_type": "code",
      "source": [
        "X_train, X_test, y_train, y_test = train_test_split(X, y, test_size=0.3, random_state=0)"
      ],
      "metadata": {
        "id": "u7gciCFe5SUA"
      },
      "execution_count": null,
      "outputs": []
    },
    {
      "cell_type": "code",
      "source": [
        "from sklearn.neighbors import KNeighborsClassifier"
      ],
      "metadata": {
        "id": "RjVVaydM5UjQ"
      },
      "execution_count": null,
      "outputs": []
    },
    {
      "cell_type": "code",
      "source": [
        "#Building Model @ n_neighbors = 6\n",
        "\n",
        "knn = KNeighborsClassifier(n_neighbors = 6)\n",
        "print(knn) \n",
        "mpm_knn = knn.fit(X_train, y_train) \n",
        "print(mpm_knn)"
      ],
      "metadata": {
        "colab": {
          "base_uri": "https://localhost:8080/"
        },
        "id": "25t0z7V45WkV",
        "outputId": "8645532f-1a0d-4851-cfaf-d8d7e8cbebca"
      },
      "execution_count": null,
      "outputs": [
        {
          "output_type": "stream",
          "name": "stdout",
          "text": [
            "KNeighborsClassifier(n_neighbors=6)\n",
            "KNeighborsClassifier(n_neighbors=6)\n"
          ]
        },
        {
          "output_type": "stream",
          "name": "stderr",
          "text": [
            "/usr/local/lib/python3.7/dist-packages/sklearn/neighbors/_classification.py:198: DataConversionWarning: A column-vector y was passed when a 1d array was expected. Please change the shape of y to (n_samples,), for example using ravel().\n",
            "  return self._fit(X, y)\n"
          ]
        }
      ]
    },
    {
      "cell_type": "code",
      "source": [
        "#Applying on Test data for prediction\n",
        "y_pred_KNN = mpm_knn.predict(X_test)\n",
        "print(y_pred_KNN)"
      ],
      "metadata": {
        "colab": {
          "base_uri": "https://localhost:8080/"
        },
        "id": "nNJKkek96tCd",
        "outputId": "90cf9ef3-44f8-41a0-edcc-69b8ea6b244f"
      },
      "execution_count": null,
      "outputs": [
        {
          "output_type": "stream",
          "name": "stdout",
          "text": [
            "[0 0 0 ... 1 0 1]\n"
          ]
        }
      ]
    },
    {
      "cell_type": "code",
      "source": [
        "#Prediction Score\n",
        "mpm_knn.score(X_test, y_test)"
      ],
      "metadata": {
        "colab": {
          "base_uri": "https://localhost:8080/"
        },
        "id": "JFoOMJ4V6vCe",
        "outputId": "92588238-d57c-4d27-f819-83651a0ae5d2"
      },
      "execution_count": null,
      "outputs": [
        {
          "output_type": "execute_result",
          "data": {
            "text/plain": [
              "0.9870490286771508"
            ]
          },
          "metadata": {},
          "execution_count": 190
        }
      ]
    },
    {
      "cell_type": "code",
      "source": [
        "#Accuracy Score\n",
        "from sklearn.metrics import accuracy_score\n",
        "accuracy_score(y_test, y_pred_KNN) "
      ],
      "metadata": {
        "colab": {
          "base_uri": "https://localhost:8080/"
        },
        "id": "HnWzfOXN6w5I",
        "outputId": "fc18db06-156d-4de5-cfa5-f7c92f2b7bb4"
      },
      "execution_count": null,
      "outputs": [
        {
          "output_type": "execute_result",
          "data": {
            "text/plain": [
              "0.9870490286771508"
            ]
          },
          "metadata": {},
          "execution_count": 191
        }
      ]
    },
    {
      "cell_type": "code",
      "source": [
        "# creating a confusion matrix\n",
        "from sklearn.metrics import confusion_matrix\n",
        "knn_predictions = knn.predict(X_test)\n",
        "cm = confusion_matrix(y_test, knn_predictions)\n",
        "cm"
      ],
      "metadata": {
        "colab": {
          "base_uri": "https://localhost:8080/"
        },
        "id": "cfO8Woq_6y2I",
        "outputId": "e10c6f5d-e681-4247-959f-93aa4c9a9ccf"
      },
      "execution_count": null,
      "outputs": [
        {
          "output_type": "execute_result",
          "data": {
            "text/plain": [
              "array([[2367,   22],\n",
              "       [  20,  834]])"
            ]
          },
          "metadata": {},
          "execution_count": 192
        }
      ]
    },
    {
      "cell_type": "code",
      "source": [
        "### Classification Report\n",
        "from sklearn.metrics import classification_report\n",
        "print(classification_report(y_test, knn_predictions))"
      ],
      "metadata": {
        "colab": {
          "base_uri": "https://localhost:8080/"
        },
        "id": "RqcuLHeF7i2q",
        "outputId": "06860196-2711-4a32-c588-e60fa4596f03"
      },
      "execution_count": null,
      "outputs": [
        {
          "output_type": "stream",
          "name": "stdout",
          "text": [
            "              precision    recall  f1-score   support\n",
            "\n",
            "           0       0.99      0.99      0.99      2389\n",
            "           1       0.97      0.98      0.98       854\n",
            "\n",
            "    accuracy                           0.99      3243\n",
            "   macro avg       0.98      0.98      0.98      3243\n",
            "weighted avg       0.99      0.99      0.99      3243\n",
            "\n"
          ]
        }
      ]
    },
    {
      "cell_type": "code",
      "source": [
        ""
      ],
      "metadata": {
        "id": "cT7e2f777luN"
      },
      "execution_count": null,
      "outputs": []
    }
  ]
}